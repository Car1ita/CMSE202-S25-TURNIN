{
 "cells": [
  {
   "cell_type": "markdown",
   "id": "3def3efc",
   "metadata": {
    "tags": []
   },
   "source": [
    "# CMSE 202 Midterm (Section 003 - Spring 2025)\n",
    "\n",
    "The goal of this midterm is to give you the opportunity to test out some of the skills that you've developed thus far this semester. In particular, you'll practice setting up a GitHub repository, committing and pushing repository changes, downloading data with command line tools, performing some data analysis, possibly using a new Python package, and writing a python class. You should find that you have all of the skills necessary to complete this exam with even just eight weeks of CMSE 202 under your belt!\n",
    "\n",
    "You are encouraged to look through the entire exam before you get started so that you can appropriately budget your time and understand the broad goals of the exam. Once you've read through it, try doing Parts 0 and 1 first so that you have your repository set up and you download all necessary data files as they will be necessary to complete the assigned tasks. Let your instructor know right away if you have problems downloading the data!\n",
    "\n",
    "The exam is set up so that even if you get stuck on one part there are opportunities to get points on the other parts, so consider jumping ahead if you feel like you aren't making progress and then come back later if you have time. If you have any questions during the exam, you may ask the instructor, the TA, or the LA privately: simply raise your hand and one of us will come over to you. \n",
    "\n",
    "\n",
    "**Important note about using online resources**: This exam is \"open internet\". That means that you can look up documentation, google how to accomplish certain Python tasks, etc. Being able to effectively use the internet for computational modeling and data science is a very important skill, so we want to make sure you have the opportunity to exercise that skill. **However: The use of any person-to-person communication software tools is absolutely not acceptable.** **Generative AI is allowed but you must provide the sources.** If you are seen accessing your email, using a collaborative cloud storage or document software (e.g. Slack, Google Documents), you will be at risk for receiving a zero on the exam.\n",
    "\n",
    "**Keep your eyes on your screen!** Unfortunately, there isn't enough space in the room for everyone to sit at their own table so please do your best to keep your eyes on your own screen. This exam is designed to give you the opportunity to show the instructor what you can do and you should hold yourself accountable for maintaining a high level of academic integrity. If any of the instructors observe suspicious behavior, you will, again, risk receiving a zero."
   ]
  },
  {
   "cell_type": "markdown",
   "id": "6b0b3d3a",
   "metadata": {},
   "source": [
    "---\n",
    "## Part 0: Academic integrity statement\n",
    "\n",
    "Read the following statement and edit the markdown text to put your name in the statement. This is your commitment to doing your own authentic work on this exam."
   ]
  },
  {
   "cell_type": "markdown",
   "id": "8e3dc4df",
   "metadata": {
    "pycharm": {
     "name": "#%% md\n"
    }
   },
   "source": [
    "> I, **Carla Carreon-Elisea**, affirm that this exam represents my own authetic work, without the use of any unpermitted aids or generative AIs or person-to-person communication. I understand that this exam an an opportunity to showcase my own progress in developing and improving my computational skills and have done my best to demonstrate those skills."
   ]
  },
  {
   "cell_type": "markdown",
   "id": "435ee396",
   "metadata": {
    "tags": []
   },
   "source": [
    "## Part 1: Add to your Git repository to track your progress on your exam (7 points total)\n",
    "\n",
    "Before you get to far along in the exam, you're going to add it to the `cmse202-s25-turnin` repository you created in class (or in Homework 1) so that you can track your progress on the exam and preserve the final version that you turn in. In order to do this you need to\n",
    "\n",
    "1. Navigate to your `cmse202-s25-turnin` repository and create a new directory called `midterm`.\n",
    "2. Move this notebook into that **new directory** in your repository, then **add it and commit it to your repository**.\n",
    "3. Finally, to test that everything is working, \"git push\" the file so that it ends up in your GitHub repository.\n",
    "\n",
    "**Important**: Double check you've added your Professor and your TA as collaborators to your \"turnin\" respository (you should have done this in the previous homework assignment).\n",
    "\n",
    "**Important**: Make sure that the version of this notebook that you are working on is the same one that you just added to your repository! If you are working on a different copy of the noteobok, **none of your changes will be tracked**!\n",
    "\n",
    "The file should now show up on your GitHub account in the `cmse202-s25-turnin` repository inside the `midterm` directory you just created.  Periodically, **you'll be asked to commit your changes to the repository and push them to the remote GitHub location**. It can be good to get into a habit of committing your changes any time you make a significant modification."
   ]
  },
  {
   "cell_type": "markdown",
   "id": "290bab71",
   "metadata": {},
   "source": [
    "&#9989; **Question 1.1 Put all the Git commands you used to add your midterm folder and file to your GitHub repository (1 point)**:"
   ]
  },
  {
   "cell_type": "markdown",
   "id": "265b8550-2340-4163-8e5f-45e8c017f33b",
   "metadata": {},
   "source": [
    "&#9989; **Do this**:\n",
    "```\n",
    "mkdir midterm\n",
    "mv (midterm file name) CMSE202-S25-TURNIN\n",
    "git add.\n",
    "git commit -m \"adding midterm folder\"\n",
    "git push\n",
    "```\n"
   ]
  },
  {
   "cell_type": "markdown",
   "id": "903ce347",
   "metadata": {},
   "source": [
    "&#9989; **Question 1.2 Put the code the instructor will need to clone your repository here (1 point)**:\n"
   ]
  },
  {
   "cell_type": "code",
   "execution_count": 1,
   "id": "adf93908",
   "metadata": {},
   "outputs": [],
   "source": [
    "### Put your code here:\n",
    "\n",
    "#$git clone https://github.com/Car1ita/CMSE202-S25-TURNIN.git\n"
   ]
  },
  {
   "cell_type": "markdown",
   "id": "8239c731",
   "metadata": {},
   "source": [
    "&#9989; **Question 1.3 If you need to create a new branch 'version2', what is the git command? What is the command to move to that branch? (1 point)**:\n"
   ]
  },
  {
   "cell_type": "markdown",
   "id": "f41179b5-784b-4951-945f-610878e19fad",
   "metadata": {},
   "source": [
    "&#9989; **Do this**:\n",
    "```\n",
    "git checkout -b Version2\n",
    "This creates a new version to move to a branch use\n",
    "git checkout branchname\n",
    "```\n"
   ]
  },
  {
   "cell_type": "markdown",
   "id": "39b5c084",
   "metadata": {},
   "source": [
    "&#9989; **Question 1.4 (4 points)**: After completing each of Part 2, Part 3, Part 4, and Part 5 below, save your notebook, commit the changes to your Git repository using a descriptive commit message, and push the changes to GitHub. Note that there are large &#128721; **STOP** signs reminding you to do this after each part."
   ]
  },
  {
   "cell_type": "markdown",
   "id": "8ebbe96b-c3a7-41b5-8be7-1e1eb842eee5",
   "metadata": {},
   "source": [
    "&#9989; **Do this**: **Smith, C. (n.d.). How to create folders and files from Windows Command Prompt. How-To Geek. Retrieved February 27, 2025, from https://www.howtogeek.com/how-to-create-folders-and-files-from-windows-command-prompt/#:~:text=To%20create%20a%20folder%20with,%2C%20followed%20by%20nul%20%3E%20filename.** "
   ]
  },
  {
   "cell_type": "markdown",
   "id": "2a33af2b",
   "metadata": {},
   "source": [
    "## Part 2: Downloading and analyzing unfamiliar data (8 points)\n",
    "\n"
   ]
  },
  {
   "cell_type": "markdown",
   "id": "fdbaac8f",
   "metadata": {},
   "source": [
    "&#9989; **Question 2.1 (1 point)**:\n",
    "Download the files using `curl` and the links (`https://raw.githubusercontent.com/huichiayu/cmse_202_802/main/data/SAS.csv`). Put the command you used to download the files in the cell below.\n"
   ]
  },
  {
   "cell_type": "code",
   "execution_count": 3,
   "id": "acd32e74",
   "metadata": {},
   "outputs": [],
   "source": [
    "### Put your code here:\n",
    "#!curl O https://raw.githubusercontent.com/huichiayu/cmse_202_802/main/data/SAS.csv\n"
   ]
  },
  {
   "cell_type": "markdown",
   "id": "5c1ff7ba",
   "metadata": {},
   "source": [
    "&#9989; **Question 2.2 (1 point)**: This file is a dataset of diabetic patients. Use pandas to import and display the data.\n"
   ]
  },
  {
   "cell_type": "code",
   "execution_count": 11,
   "id": "0eabef99",
   "metadata": {},
   "outputs": [
    {
     "data": {
      "text/html": [
       "<div>\n",
       "<style scoped>\n",
       "    .dataframe tbody tr th:only-of-type {\n",
       "        vertical-align: middle;\n",
       "    }\n",
       "\n",
       "    .dataframe tbody tr th {\n",
       "        vertical-align: top;\n",
       "    }\n",
       "\n",
       "    .dataframe thead th {\n",
       "        text-align: right;\n",
       "    }\n",
       "</style>\n",
       "<table border=\"1\" class=\"dataframe\">\n",
       "  <thead>\n",
       "    <tr style=\"text-align: right;\">\n",
       "      <th></th>\n",
       "      <th>AGE</th>\n",
       "      <th>SEX</th>\n",
       "      <th>BMI</th>\n",
       "      <th>Blood_pressure</th>\n",
       "      <th>Total_cholesterol</th>\n",
       "      <th>LD_lipo</th>\n",
       "      <th>HD_lipo</th>\n",
       "      <th>Total_cholesterol/HDL</th>\n",
       "      <th>triglycerides</th>\n",
       "      <th>Glucose</th>\n",
       "      <th>Y</th>\n",
       "    </tr>\n",
       "  </thead>\n",
       "  <tbody>\n",
       "    <tr>\n",
       "      <th>0</th>\n",
       "      <td>59</td>\n",
       "      <td>2</td>\n",
       "      <td>32.1</td>\n",
       "      <td>101.00</td>\n",
       "      <td>157</td>\n",
       "      <td>93.2</td>\n",
       "      <td>38.0</td>\n",
       "      <td>4.00</td>\n",
       "      <td>4.8598</td>\n",
       "      <td>87</td>\n",
       "      <td>151</td>\n",
       "    </tr>\n",
       "    <tr>\n",
       "      <th>1</th>\n",
       "      <td>48</td>\n",
       "      <td>1</td>\n",
       "      <td>21.6</td>\n",
       "      <td>87.00</td>\n",
       "      <td>183</td>\n",
       "      <td>103.2</td>\n",
       "      <td>70.0</td>\n",
       "      <td>3.00</td>\n",
       "      <td>3.8918</td>\n",
       "      <td>69</td>\n",
       "      <td>75</td>\n",
       "    </tr>\n",
       "    <tr>\n",
       "      <th>2</th>\n",
       "      <td>72</td>\n",
       "      <td>2</td>\n",
       "      <td>30.5</td>\n",
       "      <td>93.00</td>\n",
       "      <td>156</td>\n",
       "      <td>93.6</td>\n",
       "      <td>41.0</td>\n",
       "      <td>4.00</td>\n",
       "      <td>4.6728</td>\n",
       "      <td>85</td>\n",
       "      <td>141</td>\n",
       "    </tr>\n",
       "    <tr>\n",
       "      <th>3</th>\n",
       "      <td>24</td>\n",
       "      <td>1</td>\n",
       "      <td>25.3</td>\n",
       "      <td>84.00</td>\n",
       "      <td>198</td>\n",
       "      <td>131.4</td>\n",
       "      <td>40.0</td>\n",
       "      <td>5.00</td>\n",
       "      <td>4.8903</td>\n",
       "      <td>89</td>\n",
       "      <td>206</td>\n",
       "    </tr>\n",
       "    <tr>\n",
       "      <th>4</th>\n",
       "      <td>50</td>\n",
       "      <td>1</td>\n",
       "      <td>23.0</td>\n",
       "      <td>101.00</td>\n",
       "      <td>192</td>\n",
       "      <td>125.4</td>\n",
       "      <td>52.0</td>\n",
       "      <td>4.00</td>\n",
       "      <td>4.2905</td>\n",
       "      <td>80</td>\n",
       "      <td>135</td>\n",
       "    </tr>\n",
       "    <tr>\n",
       "      <th>...</th>\n",
       "      <td>...</td>\n",
       "      <td>...</td>\n",
       "      <td>...</td>\n",
       "      <td>...</td>\n",
       "      <td>...</td>\n",
       "      <td>...</td>\n",
       "      <td>...</td>\n",
       "      <td>...</td>\n",
       "      <td>...</td>\n",
       "      <td>...</td>\n",
       "      <td>...</td>\n",
       "    </tr>\n",
       "    <tr>\n",
       "      <th>437</th>\n",
       "      <td>60</td>\n",
       "      <td>2</td>\n",
       "      <td>28.2</td>\n",
       "      <td>112.00</td>\n",
       "      <td>185</td>\n",
       "      <td>113.8</td>\n",
       "      <td>42.0</td>\n",
       "      <td>4.00</td>\n",
       "      <td>4.9836</td>\n",
       "      <td>93</td>\n",
       "      <td>178</td>\n",
       "    </tr>\n",
       "    <tr>\n",
       "      <th>438</th>\n",
       "      <td>47</td>\n",
       "      <td>2</td>\n",
       "      <td>24.9</td>\n",
       "      <td>75.00</td>\n",
       "      <td>225</td>\n",
       "      <td>166.0</td>\n",
       "      <td>42.0</td>\n",
       "      <td>5.00</td>\n",
       "      <td>4.4427</td>\n",
       "      <td>102</td>\n",
       "      <td>104</td>\n",
       "    </tr>\n",
       "    <tr>\n",
       "      <th>439</th>\n",
       "      <td>60</td>\n",
       "      <td>2</td>\n",
       "      <td>24.9</td>\n",
       "      <td>99.67</td>\n",
       "      <td>162</td>\n",
       "      <td>106.6</td>\n",
       "      <td>43.0</td>\n",
       "      <td>3.77</td>\n",
       "      <td>4.1271</td>\n",
       "      <td>95</td>\n",
       "      <td>132</td>\n",
       "    </tr>\n",
       "    <tr>\n",
       "      <th>440</th>\n",
       "      <td>36</td>\n",
       "      <td>1</td>\n",
       "      <td>30.0</td>\n",
       "      <td>95.00</td>\n",
       "      <td>201</td>\n",
       "      <td>125.2</td>\n",
       "      <td>42.0</td>\n",
       "      <td>4.79</td>\n",
       "      <td>5.1299</td>\n",
       "      <td>85</td>\n",
       "      <td>220</td>\n",
       "    </tr>\n",
       "    <tr>\n",
       "      <th>441</th>\n",
       "      <td>36</td>\n",
       "      <td>1</td>\n",
       "      <td>19.6</td>\n",
       "      <td>71.00</td>\n",
       "      <td>250</td>\n",
       "      <td>133.2</td>\n",
       "      <td>97.0</td>\n",
       "      <td>3.00</td>\n",
       "      <td>4.5951</td>\n",
       "      <td>92</td>\n",
       "      <td>57</td>\n",
       "    </tr>\n",
       "  </tbody>\n",
       "</table>\n",
       "<p>442 rows × 11 columns</p>\n",
       "</div>"
      ],
      "text/plain": [
       "     AGE  SEX   BMI  Blood_pressure  Total_cholesterol  LD_lipo  HD_lipo  \\\n",
       "0     59    2  32.1          101.00                157     93.2     38.0   \n",
       "1     48    1  21.6           87.00                183    103.2     70.0   \n",
       "2     72    2  30.5           93.00                156     93.6     41.0   \n",
       "3     24    1  25.3           84.00                198    131.4     40.0   \n",
       "4     50    1  23.0          101.00                192    125.4     52.0   \n",
       "..   ...  ...   ...             ...                ...      ...      ...   \n",
       "437   60    2  28.2          112.00                185    113.8     42.0   \n",
       "438   47    2  24.9           75.00                225    166.0     42.0   \n",
       "439   60    2  24.9           99.67                162    106.6     43.0   \n",
       "440   36    1  30.0           95.00                201    125.2     42.0   \n",
       "441   36    1  19.6           71.00                250    133.2     97.0   \n",
       "\n",
       "     Total_cholesterol/HDL  triglycerides  Glucose    Y  \n",
       "0                     4.00         4.8598       87  151  \n",
       "1                     3.00         3.8918       69   75  \n",
       "2                     4.00         4.6728       85  141  \n",
       "3                     5.00         4.8903       89  206  \n",
       "4                     4.00         4.2905       80  135  \n",
       "..                     ...            ...      ...  ...  \n",
       "437                   4.00         4.9836       93  178  \n",
       "438                   5.00         4.4427      102  104  \n",
       "439                   3.77         4.1271       95  132  \n",
       "440                   4.79         5.1299       85  220  \n",
       "441                   3.00         4.5951       92   57  \n",
       "\n",
       "[442 rows x 11 columns]"
      ]
     },
     "execution_count": 11,
     "metadata": {},
     "output_type": "execute_result"
    }
   ],
   "source": [
    "### Put your code here:\n",
    "\n",
    "import pandas as pd\n",
    "diab = pd.read_csv('SAS.csv')\n",
    "diab"
   ]
  },
  {
   "cell_type": "markdown",
   "id": "d86e79ad",
   "metadata": {},
   "source": [
    "&#9989; **Question 2.3 (1 point)**: This dataset contains several columns. The last column seems irrelevant to what we care. Drop the last column from the dataframe.\n",
    "\n"
   ]
  },
  {
   "cell_type": "code",
   "execution_count": 13,
   "id": "7fa9bffb",
   "metadata": {},
   "outputs": [
    {
     "data": {
      "text/html": [
       "<div>\n",
       "<style scoped>\n",
       "    .dataframe tbody tr th:only-of-type {\n",
       "        vertical-align: middle;\n",
       "    }\n",
       "\n",
       "    .dataframe tbody tr th {\n",
       "        vertical-align: top;\n",
       "    }\n",
       "\n",
       "    .dataframe thead th {\n",
       "        text-align: right;\n",
       "    }\n",
       "</style>\n",
       "<table border=\"1\" class=\"dataframe\">\n",
       "  <thead>\n",
       "    <tr style=\"text-align: right;\">\n",
       "      <th></th>\n",
       "      <th>SEX</th>\n",
       "      <th>BMI</th>\n",
       "      <th>Blood_pressure</th>\n",
       "      <th>Total_cholesterol</th>\n",
       "      <th>LD_lipo</th>\n",
       "      <th>HD_lipo</th>\n",
       "      <th>Total_cholesterol/HDL</th>\n",
       "      <th>triglycerides</th>\n",
       "      <th>Glucose</th>\n",
       "    </tr>\n",
       "  </thead>\n",
       "  <tbody>\n",
       "    <tr>\n",
       "      <th>0</th>\n",
       "      <td>2</td>\n",
       "      <td>32.1</td>\n",
       "      <td>101.00</td>\n",
       "      <td>157</td>\n",
       "      <td>93.2</td>\n",
       "      <td>38.0</td>\n",
       "      <td>4.00</td>\n",
       "      <td>4.8598</td>\n",
       "      <td>87</td>\n",
       "    </tr>\n",
       "    <tr>\n",
       "      <th>1</th>\n",
       "      <td>1</td>\n",
       "      <td>21.6</td>\n",
       "      <td>87.00</td>\n",
       "      <td>183</td>\n",
       "      <td>103.2</td>\n",
       "      <td>70.0</td>\n",
       "      <td>3.00</td>\n",
       "      <td>3.8918</td>\n",
       "      <td>69</td>\n",
       "    </tr>\n",
       "    <tr>\n",
       "      <th>2</th>\n",
       "      <td>2</td>\n",
       "      <td>30.5</td>\n",
       "      <td>93.00</td>\n",
       "      <td>156</td>\n",
       "      <td>93.6</td>\n",
       "      <td>41.0</td>\n",
       "      <td>4.00</td>\n",
       "      <td>4.6728</td>\n",
       "      <td>85</td>\n",
       "    </tr>\n",
       "    <tr>\n",
       "      <th>3</th>\n",
       "      <td>1</td>\n",
       "      <td>25.3</td>\n",
       "      <td>84.00</td>\n",
       "      <td>198</td>\n",
       "      <td>131.4</td>\n",
       "      <td>40.0</td>\n",
       "      <td>5.00</td>\n",
       "      <td>4.8903</td>\n",
       "      <td>89</td>\n",
       "    </tr>\n",
       "    <tr>\n",
       "      <th>4</th>\n",
       "      <td>1</td>\n",
       "      <td>23.0</td>\n",
       "      <td>101.00</td>\n",
       "      <td>192</td>\n",
       "      <td>125.4</td>\n",
       "      <td>52.0</td>\n",
       "      <td>4.00</td>\n",
       "      <td>4.2905</td>\n",
       "      <td>80</td>\n",
       "    </tr>\n",
       "    <tr>\n",
       "      <th>...</th>\n",
       "      <td>...</td>\n",
       "      <td>...</td>\n",
       "      <td>...</td>\n",
       "      <td>...</td>\n",
       "      <td>...</td>\n",
       "      <td>...</td>\n",
       "      <td>...</td>\n",
       "      <td>...</td>\n",
       "      <td>...</td>\n",
       "    </tr>\n",
       "    <tr>\n",
       "      <th>437</th>\n",
       "      <td>2</td>\n",
       "      <td>28.2</td>\n",
       "      <td>112.00</td>\n",
       "      <td>185</td>\n",
       "      <td>113.8</td>\n",
       "      <td>42.0</td>\n",
       "      <td>4.00</td>\n",
       "      <td>4.9836</td>\n",
       "      <td>93</td>\n",
       "    </tr>\n",
       "    <tr>\n",
       "      <th>438</th>\n",
       "      <td>2</td>\n",
       "      <td>24.9</td>\n",
       "      <td>75.00</td>\n",
       "      <td>225</td>\n",
       "      <td>166.0</td>\n",
       "      <td>42.0</td>\n",
       "      <td>5.00</td>\n",
       "      <td>4.4427</td>\n",
       "      <td>102</td>\n",
       "    </tr>\n",
       "    <tr>\n",
       "      <th>439</th>\n",
       "      <td>2</td>\n",
       "      <td>24.9</td>\n",
       "      <td>99.67</td>\n",
       "      <td>162</td>\n",
       "      <td>106.6</td>\n",
       "      <td>43.0</td>\n",
       "      <td>3.77</td>\n",
       "      <td>4.1271</td>\n",
       "      <td>95</td>\n",
       "    </tr>\n",
       "    <tr>\n",
       "      <th>440</th>\n",
       "      <td>1</td>\n",
       "      <td>30.0</td>\n",
       "      <td>95.00</td>\n",
       "      <td>201</td>\n",
       "      <td>125.2</td>\n",
       "      <td>42.0</td>\n",
       "      <td>4.79</td>\n",
       "      <td>5.1299</td>\n",
       "      <td>85</td>\n",
       "    </tr>\n",
       "    <tr>\n",
       "      <th>441</th>\n",
       "      <td>1</td>\n",
       "      <td>19.6</td>\n",
       "      <td>71.00</td>\n",
       "      <td>250</td>\n",
       "      <td>133.2</td>\n",
       "      <td>97.0</td>\n",
       "      <td>3.00</td>\n",
       "      <td>4.5951</td>\n",
       "      <td>92</td>\n",
       "    </tr>\n",
       "  </tbody>\n",
       "</table>\n",
       "<p>442 rows × 9 columns</p>\n",
       "</div>"
      ],
      "text/plain": [
       "     SEX   BMI  Blood_pressure  Total_cholesterol  LD_lipo  HD_lipo  \\\n",
       "0      2  32.1          101.00                157     93.2     38.0   \n",
       "1      1  21.6           87.00                183    103.2     70.0   \n",
       "2      2  30.5           93.00                156     93.6     41.0   \n",
       "3      1  25.3           84.00                198    131.4     40.0   \n",
       "4      1  23.0          101.00                192    125.4     52.0   \n",
       "..   ...   ...             ...                ...      ...      ...   \n",
       "437    2  28.2          112.00                185    113.8     42.0   \n",
       "438    2  24.9           75.00                225    166.0     42.0   \n",
       "439    2  24.9           99.67                162    106.6     43.0   \n",
       "440    1  30.0           95.00                201    125.2     42.0   \n",
       "441    1  19.6           71.00                250    133.2     97.0   \n",
       "\n",
       "     Total_cholesterol/HDL  triglycerides  Glucose  \n",
       "0                     4.00         4.8598       87  \n",
       "1                     3.00         3.8918       69  \n",
       "2                     4.00         4.6728       85  \n",
       "3                     5.00         4.8903       89  \n",
       "4                     4.00         4.2905       80  \n",
       "..                     ...            ...      ...  \n",
       "437                   4.00         4.9836       93  \n",
       "438                   5.00         4.4427      102  \n",
       "439                   3.77         4.1271       95  \n",
       "440                   4.79         5.1299       85  \n",
       "441                   3.00         4.5951       92  \n",
       "\n",
       "[442 rows x 9 columns]"
      ]
     },
     "execution_count": 13,
     "metadata": {},
     "output_type": "execute_result"
    }
   ],
   "source": [
    "### Put your code here:\n",
    "last_column = diab.columns[-1]\n",
    "diab = diab.drop(columns=last_column)\n",
    "diab\n"
   ]
  },
  {
   "cell_type": "markdown",
   "id": "2e90d1bd",
   "metadata": {},
   "source": [
    "&#9989; **Question 2.4 (2 points)**: We want to analyze the data of male and female patients separately. Group the data by the \"SEX\" column and then use the built-in Pandas function to get a quick statistical summary of your data (e.g. the mean, standard deviation, min, max, etc).\n"
   ]
  },
  {
   "cell_type": "code",
   "execution_count": 20,
   "id": "b777a6af",
   "metadata": {},
   "outputs": [
    {
     "name": "stdout",
     "output_type": "stream",
     "text": [
      "<pandas.core.groupby.generic.DataFrameGroupBy object at 0x7f06df248350>\n"
     ]
    },
    {
     "data": {
      "text/html": [
       "<div>\n",
       "<style scoped>\n",
       "    .dataframe tbody tr th:only-of-type {\n",
       "        vertical-align: middle;\n",
       "    }\n",
       "\n",
       "    .dataframe tbody tr th {\n",
       "        vertical-align: top;\n",
       "    }\n",
       "\n",
       "    .dataframe thead th {\n",
       "        text-align: right;\n",
       "    }\n",
       "</style>\n",
       "<table border=\"1\" class=\"dataframe\">\n",
       "  <thead>\n",
       "    <tr style=\"text-align: right;\">\n",
       "      <th></th>\n",
       "      <th>BMI</th>\n",
       "      <th>Blood_pressure</th>\n",
       "      <th>Total_cholesterol</th>\n",
       "      <th>LD_lipo</th>\n",
       "      <th>HD_lipo</th>\n",
       "      <th>Total_cholesterol/HDL</th>\n",
       "      <th>triglycerides</th>\n",
       "      <th>Glucose</th>\n",
       "    </tr>\n",
       "    <tr>\n",
       "      <th>SEX</th>\n",
       "      <th></th>\n",
       "      <th></th>\n",
       "      <th></th>\n",
       "      <th></th>\n",
       "      <th></th>\n",
       "      <th></th>\n",
       "      <th></th>\n",
       "      <th></th>\n",
       "    </tr>\n",
       "  </thead>\n",
       "  <tbody>\n",
       "    <tr>\n",
       "      <th>1</th>\n",
       "      <td>6112.5</td>\n",
       "      <td>21507.66</td>\n",
       "      <td>44179</td>\n",
       "      <td>26172.5</td>\n",
       "      <td>12780.5</td>\n",
       "      <td>862.09</td>\n",
       "      <td>1073.4783</td>\n",
       "      <td>20919</td>\n",
       "    </tr>\n",
       "    <tr>\n",
       "      <th>2</th>\n",
       "      <td>5545.6</td>\n",
       "      <td>20326.32</td>\n",
       "      <td>39421</td>\n",
       "      <td>24851.6</td>\n",
       "      <td>9226.0</td>\n",
       "      <td>936.96</td>\n",
       "      <td>978.0253</td>\n",
       "      <td>19418</td>\n",
       "    </tr>\n",
       "  </tbody>\n",
       "</table>\n",
       "</div>"
      ],
      "text/plain": [
       "        BMI  Blood_pressure  Total_cholesterol  LD_lipo  HD_lipo  \\\n",
       "SEX                                                                \n",
       "1    6112.5        21507.66              44179  26172.5  12780.5   \n",
       "2    5545.6        20326.32              39421  24851.6   9226.0   \n",
       "\n",
       "     Total_cholesterol/HDL  triglycerides  Glucose  \n",
       "SEX                                                 \n",
       "1                   862.09      1073.4783    20919  \n",
       "2                   936.96       978.0253    19418  "
      ]
     },
     "execution_count": 20,
     "metadata": {},
     "output_type": "execute_result"
    }
   ],
   "source": [
    "### Put your code here\n",
    "grouped = diab.groupby('SEX')\n",
    "print(grouped)\n",
    "sumg = grouped.sum()\n",
    "sumg\n",
    "#1 Male 2 Female \n"
   ]
  },
  {
   "cell_type": "markdown",
   "id": "42fe8ccb",
   "metadata": {},
   "source": [
    "&#9989; **Question 2.5 (1 point)**: Let's analyze the correlation between BMI and Glucose of male patients (SEX = 1). Extract the data of male patients and make a scatter plot of BMI versus Glucose. Make sure to include labels and a title for your plot.\n"
   ]
  },
  {
   "cell_type": "code",
   "execution_count": 24,
   "id": "97b35785",
   "metadata": {},
   "outputs": [
    {
     "data": {
      "text/plain": [
       "Text(0.5, 1.0, 'Male BMI vs Glucose Levels')"
      ]
     },
     "execution_count": 24,
     "metadata": {},
     "output_type": "execute_result"
    },
    {
     "data": {
      "image/png": "[encoded data removed]",
      "text/plain": [
       "<Figure size 640x480 with 1 Axes>"
      ]
     },
     "metadata": {},
     "output_type": "display_data"
    }
   ],
   "source": [
    "### Put your code here\n",
    "male=diab[diab[\"SEX\"]==1][[\"BMI\",\"Glucose\"]]\n",
    "male\n",
    "import matplotlib.pyplot as plt\n",
    "\n",
    "plt.scatter(male[\"BMI\"], male[\"Glucose\"])\n",
    "plt.xlabel(\"BMI\")\n",
    "plt.ylabel(\"Glucose\")\n",
    "plt.title(\"Male BMI vs Glucose Levels\")"
   ]
  },
  {
   "cell_type": "markdown",
   "id": "9732c055",
   "metadata": {},
   "source": [
    "&#9989; **Question 2.6 (2 points)**: Let's extract female patients' data.\n",
    "Create two histograms for BMI distribution on the same plot. One for male and the other for female patients. Again, make sure to include labels for the axis, as well as a title for your plot."
   ]
  },
  {
   "cell_type": "code",
   "execution_count": 33,
   "id": "ba179043",
   "metadata": {},
   "outputs": [
    {
     "data": {
      "text/plain": [
       "<matplotlib.legend.Legend at 0x7f06d8d9f1d0>"
      ]
     },
     "execution_count": 33,
     "metadata": {},
     "output_type": "execute_result"
    },
    {
     "data": {
      "image/png": "[encoded data removed]",
      "text/plain": [
       "<Figure size 640x480 with 1 Axes>"
      ]
     },
     "metadata": {},
     "output_type": "display_data"
    }
   ],
   "source": [
    "### Put your code here\n",
    "female=diab[diab[\"SEX\"]==2][[\"BMI\"]]\n",
    "female\n",
    "plt.hist(female[\"BMI\"], label=\"Female BMI\")\n",
    "plt.hist(male[\"BMI\"],label=\"Male BMI\")\n",
    "\n",
    "plt.xlabel(\"BMI\")\n",
    "plt.ylabel(\"Frequency\")\n",
    "plt.title(\"BMI Levels Male vs. Female\")\n",
    "plt.legend()\n",
    "\n",
    "#OpenAI. ChatGPT, Feb. 27, 2025, https://chat.openai.com."
   ]
  },
  {
   "cell_type": "markdown",
   "id": "1561ad28-7372-4160-bcfb-33b03d9174e8",
   "metadata": {},
   "source": [
    "&#9989; **Do this**: **Google. (n.d.). Google. Retrieved February 27, 2025, from https://www.google.com & OpenAI. ChatGPT, Feb. 27, 2025, https://chat.openai.com.**"
   ]
  },
  {
   "cell_type": "markdown",
   "id": "c7fb929b",
   "metadata": {
    "jp-MarkdownHeadingCollapsed": true,
    "tags": []
   },
   "source": [
    "---\n",
    "### &#128721; STOP (1 point)\n",
    "**Pause to commit your changes to your Git repository!**\n",
    "\n",
    "Take a moment to save your notebook, commit  and push the changes to your Git repository.\n",
    "\n",
    "---"
   ]
  },
  {
   "cell_type": "markdown",
   "id": "73b28e5a",
   "metadata": {
    "tags": []
   },
   "source": [
    "## Part 3: Working with a new Python package (9 points)\n"
   ]
  },
  {
   "cell_type": "markdown",
   "id": "ca47849a-c1e3-48af-b48e-02d51267ff9d",
   "metadata": {},
   "source": [
    "For this problem, we want you to use a new package that you aren’t as used to. Specifically, you’ll be using the holoviews plotting package (https://holoviews.org).\n",
    "\n",
    "✅ Your goal is to use this new package to create some new plots.\n",
    "\n",
    "*Hint: You might want to take a look at holoviews' example gallery.*"
   ]
  },
  {
   "cell_type": "markdown",
   "id": "fac01f60",
   "metadata": {},
   "source": [
    "&#9989; **Question 3.1 (1 point):** What is the command to install holoviews seaborn library?"
   ]
  },
  {
   "cell_type": "code",
   "execution_count": null,
   "id": "cc86c046",
   "metadata": {},
   "outputs": [],
   "source": [
    "# Put your code here\n",
    "\n"
   ]
  },
  {
   "cell_type": "markdown",
   "id": "6890c0b6",
   "metadata": {},
   "source": [
    "&#9989; **Question 3.2 (3 points):** Let's make a scatter plot of BMI versus Glucose for female patients using holoviews.\n"
   ]
  },
  {
   "cell_type": "code",
   "execution_count": null,
   "id": "8901b66f",
   "metadata": {},
   "outputs": [],
   "source": [
    "# Put your code here\n",
    "\n"
   ]
  },
  {
   "cell_type": "markdown",
   "id": "caa1c580",
   "metadata": {},
   "source": [
    "&#9989; **Question 3.3 (2 points):** Make a histogram plot of female patients' Glucose using holoviews.\n"
   ]
  },
  {
   "cell_type": "code",
   "execution_count": null,
   "id": "54e8f1aa",
   "metadata": {},
   "outputs": [],
   "source": [
    "# Put your code here\n",
    "\n"
   ]
  },
  {
   "cell_type": "markdown",
   "id": "d4c7f3d3",
   "metadata": {},
   "source": [
    "&#9989; **Question 3.4 (3 points):** We want to analyze the correlations between AGE, BMI, LD_lipo, triglycerides, and Glucose for male and female patients. A quick way is to make a scatter matrix plot. Make a new dataframe by extract SEX, AGE, BMI, LD_lipo, triglycerides, and Glucose from the original dataframe. Make a scatter matrix plot using holoviews and use two different marker colors distiguish the data points of male and female patients. \n"
   ]
  },
  {
   "cell_type": "code",
   "execution_count": null,
   "id": "b6dc5057",
   "metadata": {},
   "outputs": [],
   "source": [
    "# Put your code here\n",
    "\n"
   ]
  },
  {
   "cell_type": "markdown",
   "id": "3290a32a-af5d-4cb1-9c80-60b924643844",
   "metadata": {},
   "source": [
    "&#9989; **Do this**: **Leave the source of Gen AI here if you used any in Part 3.**\n"
   ]
  },
  {
   "cell_type": "markdown",
   "id": "d381baf7",
   "metadata": {
    "jp-MarkdownHeadingCollapsed": true,
    "tags": []
   },
   "source": [
    "---\n",
    "### &#128721; STOP (1 point)\n",
    "**Pause to commit your changes to your Git repository!**\n",
    "\n",
    "Take a moment to save your notebook, commit  and push the changes to your Git repository.\n",
    "\n",
    "---"
   ]
  },
  {
   "cell_type": "markdown",
   "id": "07d450c5",
   "metadata": {},
   "source": [
    "## Part 4: Writing a simple Python class (14 points)\n",
    "\n",
    "For this question, you are asked to create two classes: customer and account.\n",
    "\n",
    "### First, download the ledger.\n",
    "\n",
    "&#9989; **4.0 (1 pt):** Download the csv file from\n",
    "`https://raw.githubusercontent.com/huichiayu/cmse_202_802/main/data/Ledger.csv`\n",
    "\n",
    "Use Pandas to import the data and show what information is in the data."
   ]
  },
  {
   "cell_type": "code",
   "execution_count": null,
   "id": "bd793d90-1931-4400-abd1-1bb2312a5cd7",
   "metadata": {},
   "outputs": [],
   "source": [
    "### put your code here\n"
   ]
  },
  {
   "cell_type": "markdown",
   "id": "8c264b75",
   "metadata": {},
   "source": [
    "&#9989; **Question 4.1 (7 points):** \n",
    "\n",
    "### Build the account class\n",
    "This account class will contain53 attributes (number, owner, balance, sex, and email), and a total of 10 methods. Below is a half-baked account class. Complete the class code accorrding to the descritpions in the relevant DocString. \n"
   ]
  },
  {
   "cell_type": "code",
   "execution_count": null,
   "id": "0c7c0e8c",
   "metadata": {},
   "outputs": [],
   "source": [
    "### Complete this class\n",
    "\n",
    "class account():\n",
    "    \n",
    "    def __init__(self, number, owner, balance = 0.0):\n",
    "        \"\"\"Initialize the attributes of the class.\n",
    "        \n",
    "        Parameters\n",
    "        ----------\n",
    "        number : string \n",
    "            Account number.\n",
    "        \n",
    "        owner : string\n",
    "            Account owner's name \n",
    "        \n",
    "        amount: float\n",
    "            Balance amount of money in the account.\n",
    "\n",
    "        customer_sex: string\n",
    "            account owner's sex\n",
    "\n",
    "        customer_email: string\n",
    "            account owner's email address            \n",
    "\n",
    "        Methods\n",
    "        ----------\n",
    "        get_acct_owner:\n",
    "            Returns the name of account owner.\n",
    "            \n",
    "        get_acct_balance:\n",
    "            Returns the balance in the account\n",
    "            \n",
    "        get_acct_number:\n",
    "            Returns the acocunt number\n",
    "\n",
    "        set_acct_owner_sex:\n",
    "            set account onwer's sex\n",
    "\n",
    "        get_acct_owner_sex:\n",
    "            get account onwer's sex\n",
    "\n",
    "        set_acct_owner_eamil:\n",
    "            set account onwer's email address\n",
    "\n",
    "        get_acct_owner_eamil:\n",
    "            Return account onwer's email address\n",
    "\n",
    "        deposit:\n",
    "            Deposit money to the account by adding to the balance\n",
    "\n",
    "        withdraw:\n",
    "            Remove money from the account by subtracting from the balance\n",
    "        \n",
    "        transfer_to:\n",
    "            Transfer money to another account\n",
    "        \n",
    "        \n",
    "        \"\"\"\n",
    "        self.number = ??\n",
    "        self.owner = ??\n",
    "        self.balance = ?? \n",
    "        self.sex = ''\n",
    "        self.email = '' \n",
    "        \n",
    "        \n",
    "    def get_acct_owner(self):\n",
    "        \"\"\"Returns the name of account owner.\"\"\"\n",
    "        return ??\n",
    "  \n",
    "    def get_acct_balance(self):\n",
    "        \"\"\"Returns the balance in the account.\"\"\"\n",
    "        return ??     \n",
    " \n",
    "    \n",
    "    def get_acct_number(self):\n",
    "        \"\"\"Returns the number of the account.\"\"\"\n",
    "        return ??\n",
    "        \n",
    "\n",
    "    \n",
    "    def set_acct_owner_sex(self,customer_sex):\n",
    "        \"\"\"set account onwer's sex\"\"\"\n",
    "        self.sex = customer_sex\n",
    "\n",
    "    def get_acct_owner_sex(self):\n",
    "        \"\"\"get account onwer's sex\"\"\"\n",
    "        return self.sex\n",
    "\n",
    "    def set_acct_owner_eamil(self,customer_email):\n",
    "        \"\"\"set account onwer's email address\"\"\"\n",
    "        self.email = customer_email\n",
    "\n",
    "    def get_acct_owner_eamil(self):\n",
    "        \"\"\"Return account onwer's email address\"\"\"\n",
    "        return self.email  \n",
    "\n",
    "        \n",
    "    \n",
    "    def deposit(self, amount):\n",
    "        \"\"\"Deposit money to the account by adding to the balance.\n",
    "        \n",
    "        Parameters\n",
    "        ----------\n",
    "        amount : float\n",
    "            Amount to be deposited.\n",
    "        \n",
    "        \"\"\"\n",
    "        # put your code here \n",
    "        \n",
    "        \n",
    "        \n",
    "    def withdraw(self, amount):\n",
    "        \"\"\"Remove money from the account by subtracting from the balance.\n",
    "        \n",
    "        Parameters\n",
    "        ----------\n",
    "        amount : float\n",
    "            Amount to be withdrawn.\n",
    "        \n",
    "        Returns\n",
    "        -------\n",
    "        True if there are enough money in the account\n",
    "        \n",
    "        False if there are not enough money in the account. Print out 'Nope! You ain't got enough money.'\n",
    "        \n",
    "        \"\"\"\n",
    "        # put your code here \n",
    "\n",
    "\n",
    "    \n",
    "    def transfer_to(self, money, other_account):\n",
    "        \"\"\"Transfer money to another account if there are enough money.\n",
    "        \n",
    "        Parameters\n",
    "        ----------\n",
    "        money : float\n",
    "            Amount of money to transfer.\n",
    "        \n",
    "        other_account : object\n",
    "            Instance of Account class where to transfer money.\n",
    "\n",
    "        The amount of money will be withdrawn from the owner's account and deposited to the recepent's account. \n",
    "        You can use the deposit and withdraw methods.\n",
    "        \n",
    "        \"\"\"\n",
    "       # put your code here \n",
    "    \n",
    "        "
   ]
  },
  {
   "cell_type": "markdown",
   "id": "b182afff-e36e-41fe-84ec-b338199f96a4",
   "metadata": {},
   "source": [
    "### Test your account class\n",
    "\n",
    "&#9989; Let's check whether the code works. Run the following cell and you should get the following output:"
   ]
  },
  {
   "cell_type": "code",
   "execution_count": null,
   "id": "89697449-9b5a-4e2b-9377-e823a0bbbb9e",
   "metadata": {},
   "outputs": [],
   "source": [
    "acct = account('456789','Bob',1200)\n",
    "\n",
    "print(f\"Customer {acct.get_acct_owner()} owns account {acct.get_acct_number()}, which has ${acct.get_acct_balance()}\")\n"
   ]
  },
  {
   "cell_type": "markdown",
   "id": "cf47f90d",
   "metadata": {},
   "source": [
    "&#9989; **Question 4.2 (2 points):** Write a loop to substantiate all the accouns in the dataframe and input their attributes. Collect all the account objects to a list, for example, account_list."
   ]
  },
  {
   "cell_type": "code",
   "execution_count": null,
   "id": "3506a66d",
   "metadata": {},
   "outputs": [],
   "source": [
    "### Put your code here\n",
    "\n",
    "account_list = []\n",
    "\n",
    "\n"
   ]
  },
  {
   "cell_type": "markdown",
   "id": "a1b3ab4b",
   "metadata": {},
   "source": [
    "You should be able to find out the total funds of those accounts together using the cell below.\n"
   ]
  },
  {
   "cell_type": "code",
   "execution_count": null,
   "id": "2c2e27bd",
   "metadata": {},
   "outputs": [],
   "source": [
    "funds = 0;\n",
    "for i in range(len(account_list)):\n",
    "\n",
    "    funds += account_list[i].get_acct_balance()\n",
    "\n",
    "funds"
   ]
  },
  {
   "cell_type": "markdown",
   "id": "4f71cc6b-c1da-44f3-a3f1-55c2fb8cf305",
   "metadata": {},
   "source": [
    " **As a bank teller, your boss asked you to process the transitions of the day.**\n",
    " \n",
    "Download the csv file from the link ```https://raw.githubusercontent.com/huichiayu/cmse_202_802/main/data/transactions.csv```\n",
    "for transaction list. Use Pandas to create a dataframe (for example, transacs) of the transaction history."
   ]
  },
  {
   "cell_type": "code",
   "execution_count": null,
   "id": "41efda5d-6178-4927-b2ce-21c49d180e3c",
   "metadata": {},
   "outputs": [],
   "source": [
    "### Put your code here\n",
    "\n"
   ]
  },
  {
   "cell_type": "markdown",
   "id": "8eaf4d29-ed7f-418f-b05c-678b0c3bcccf",
   "metadata": {},
   "source": [
    "Here we can first create a dictionary to map customer names and account objects. The dictionary below will take customer names as the keys and respective account classes as values, such that you can use a customer's name to fetch his/her account."
   ]
  },
  {
   "cell_type": "code",
   "execution_count": null,
   "id": "2880acca-dc33-4d5d-aae3-aefcd1b15f2a",
   "metadata": {},
   "outputs": [],
   "source": [
    "# code to make a customer-account dictionary data\n",
    "\n",
    "customer_name_list = []\n",
    "\n",
    "for i in range(len(account_list)):\n",
    "     customer_name_list.append(account_list[i].get_acct_owner())\n",
    "        \n",
    "d_key = dict(enumerate(customer_name_list))\n",
    "d_acct = dict(zip(customer_name_list,account_list))\n"
   ]
  },
  {
   "cell_type": "markdown",
   "id": "bef31365-1675-454b-ad11-aa5bccf590ab",
   "metadata": {},
   "source": [
    "&#9989; **Question 4.3 (3 points):** Write a bank class code that 1) can input those account objects in and 2) has a method to process those transactions. "
   ]
  },
  {
   "cell_type": "code",
   "execution_count": null,
   "id": "079fcff6-6b01-40ff-a20f-2b44cf4e63c0",
   "metadata": {},
   "outputs": [],
   "source": [
    "### Complete the bank class below\n",
    "\n",
    "class bank():\n",
    "    \n",
    "    def __init__(self):\n",
    "        \"\"\"Initialize the attributes of the class.\n",
    "        \n",
    "        Parameters\n",
    "        ----------\n",
    "        accounts : dictionary \n",
    "            dictionary stores account list.\n",
    "        \n",
    "        trans : Pandas dataframe\n",
    "            dataframe of transaction data\n",
    "        \n",
    "        \"\"\"    \n",
    "        self.accounts = {}\n",
    "\n",
    "    \n",
    "    def set_accts(self, ??):\n",
    "        '''input accounts dictionary'''\n",
    "        self.accounts = accounts\n",
    "    \n",
    "\n",
    "    def set_transac_data(self, ??):\n",
    "        \"\"\"input transaction dataframe\"\"\"\n",
    "        self.trans = data\n",
    "\n",
    "    def get_accts(self):\n",
    "        '''return accounts dictionary'''\n",
    "        return self.accounts\n",
    "        \n",
    "    \n",
    "    def process_transac(self):\n",
    "        \"\"\"Process transactions\n",
    "        \n",
    "        Parameters\n",
    "        -------------\n",
    "        num_trans : integer\n",
    "            nummber of transactions on the data sheet\n",
    "\n",
    "        customer : string\n",
    "            customer's name\n",
    "\n",
    "        action : string\n",
    "            Transactions: 'deposit', 'withdraw', or 'transfer'\n",
    "\n",
    "        amount : float\n",
    "            transaction amount\n",
    "\n",
    "        recepient : string\n",
    "            customer/account receives transfer\n",
    "\n",
    "        Loop over num_trans and process each transaction.\n",
    "        \n",
    "        \"\"\"\n",
    "        \n",
    "        self.num_trans = len(self.trans)\n",
    "        \n",
    "        # loop over transaction data sheet\n",
    "        for t in range(self.num_trans):\n",
    "            # extract relevant data for dataframe\n",
    "            customer = self.trans['Customer'][t]\n",
    "            action = self.trans['Transaction'][t]\n",
    "            amount = self.trans['Amount'][t]\n",
    "            recepient = self.trans['Recipient'][t]\n",
    "            \n",
    "            cus_acct = d_acct[customer]\n",
    "            # deposit: use account class' deposit method\n",
    "            if action == 'deposit':\n",
    "                cus_acct.??\n",
    "\n",
    "            # withdraw: use account class' withdraw method\n",
    "            if action == 'withdraw':\n",
    "                cus_acct.??\n",
    "\n",
    "            # transfer: use account class' transfer method\n",
    "            if action == 'transfer':\n",
    "                cus_acct.??"
   ]
  },
  {
   "cell_type": "markdown",
   "id": "511581fb-80dd-4de7-88dd-3b7cecde2a46",
   "metadata": {},
   "source": [
    "### Test you bank class:\n",
    "\n",
    "Use the cell below to 1) instanstiate your bank class, 2) input account classes, 3) input transaction data, and 4) process transactions."
   ]
  },
  {
   "cell_type": "code",
   "execution_count": null,
   "id": "6801bab0-84f5-444b-bd53-d677402f1f9d",
   "metadata": {},
   "outputs": [],
   "source": [
    "# run your bank class here\n",
    "\n",
    "MyBank = bank()\n",
    "\n",
    "MyBank.set_accts(d_acct)\n",
    "MyBank.set_transac_data(transacs)\n",
    "MyBank.process_transac()\n",
    "\n",
    "\n",
    "ac_list = MyBank.get_accts()\n",
    "\n",
    "# print customer's name and account balance\n",
    "for p in ac_list:\n",
    "    print(ac_list[p].get_acct_owner(),ac_list[p].get_acct_balance())"
   ]
  },
  {
   "cell_type": "markdown",
   "id": "03d2cc6b-bbb4-47c4-89f4-095221aae301",
   "metadata": {},
   "source": [
    "### 4.5. Finally, let's send out monthly notices to the customers.\n",
    "\n",
    "&#9989; **Question 4.5 (1 point):**\n",
    "\n",
    "Write some code to do the following.\n",
    "\n",
    "If an account balance is below  $\\$$1000,\n",
    "\n",
    "For female customers, print `customer email address`: Miss `customer name`, your account balance is $`account amount`. Please remain a minimum balance of $\\$$1000 to avoid maintanence fee.\n",
    "\n",
    "For male customers, print `customer email address`: Mr. `customer name`, your account balance is $`account amount`. Please remain a minimum balance of $\\$$1000 to avoid maintanence fee.\n",
    "\n",
    "If an account balance is above $\\$$15000,\n",
    "\n",
    "For female customers, print `customer email address`: Misss `customer name`, your account balance is $`account amount`. Would you like to join our investiment plan.\n",
    "\n",
    "For male customers, print `customer email address`: Mr. `customer name`, your account balance is $`account amount`. Would you like to join our investiment plan.\n",
    "\n",
    "Otherwise, \n",
    "\n",
    "For female customers, print `customer email address`: Misss `customer name`, your current account balance is $`account amount`. \n",
    "\n",
    "For male customers, print `customer email address`: Mr. `customer name`, your current account balance is $`account amount`. "
   ]
  },
  {
   "cell_type": "code",
   "execution_count": null,
   "id": "71b3f7ef-20bb-4268-b63b-aec8cfe216bd",
   "metadata": {},
   "outputs": [],
   "source": [
    "### put your code here\n"
   ]
  },
  {
   "cell_type": "markdown",
   "id": "4e72adb2-ba28-4c56-bf30-d0fd7915f824",
   "metadata": {},
   "source": [
    "&#9989; **Do this**: **Leave the source of Gen AI here if you used any in Part 4.**"
   ]
  },
  {
   "cell_type": "markdown",
   "id": "c159cf9a",
   "metadata": {
    "tags": []
   },
   "source": [
    "---\n",
    "### &#128721; STOP (1 point)\n",
    "**Pause to commit your changes to your Git repository!**\n",
    "\n",
    "Take a moment to save your notebook, commit  and push the changes to your Git repository.\n",
    "\n",
    "---"
   ]
  },
  {
   "cell_type": "markdown",
   "id": "755cce02-7247-4e83-8c8f-9d3355f1512a",
   "metadata": {},
   "source": [
    "## Part 5: Writing a simple Python code using different programming paradigms (7 points)\n",
    "\n",
    "The position $(x,y)$ of a projectile is described by the formula:\n",
    "\n",
    "$$x_{n+1} = x_{n} + v_{x(n)} \\delta t$$   $$y_{n+1} = y_{n} + v_{y(n)} \\delta t$$\n",
    "\n",
    "where subscript $n$ indciates the $n$-th time step, $v_{x(n)}$ and $v_{y(n)}$ are the velocith components in the $x$ and $y$ directions, and $\\delta t$ is the time interval.\n",
    "The velocity components are updated by $$v_{x(n+1)} = v_{x(n)} + a_{x} \\delta t$$  $$v_{y(n+1)} = v_{y(n)} + a_{y} \\delta t,$$\n",
    "where $a_{x}$ and $a_{y}$ are the acceleration components in the $x$ and $y$ directions, respectively. \n",
    "If the initial velocity intersects the horizontal plane by an agle $\\theta$, the initial velocity components are $$v_{x(0)} = v_0 \\cos(\\theta)$$  $$v_{y(0)}=v_0\\sin(\\theta).$$ Assuming $a_x =0$, $a_y = -9.81$, $v_0 = 1100$, $\\theta = 80^\\circ$, and the initial position is $(x,y) = (0,0)$, the trajectory can be calculated by the following code. Clearly, this is a linear programming code. "
   ]
  },
  {
   "cell_type": "code",
   "execution_count": null,
   "id": "e2a72b9f-8b5f-424a-8443-ecf02d692ff3",
   "metadata": {},
   "outputs": [],
   "source": [
    "import math\n",
    "import matplotlib.pyplot as plt\n",
    "\n",
    "# accelectration\n",
    "ax = 0\n",
    "ay = -9.81\n",
    "\n",
    "# projection angle\n",
    "theta = 80\n",
    "\n",
    "# initial velocity\n",
    "v0 = 1100\n",
    "vx = v0*math.cos(math.radians(theta))\n",
    "vy = v0*math.sin(math.radians(theta))\n",
    "\n",
    "# position\n",
    "xp = []\n",
    "yp = []\n",
    "\n",
    "# initial position\n",
    "x = 0\n",
    "y = 0\n",
    "\n",
    "xp.append(x)\n",
    "yp.append(y)\n",
    "\n",
    "# time interval\n",
    "dt = 1;\n",
    "\n",
    "for t in range(500):\n",
    "\n",
    "    x += vx*dt\n",
    "    y += vy*dt\n",
    "\n",
    "    xp.append(x)\n",
    "    yp.append(y)\n",
    "    \n",
    "    vx += ax*dt\n",
    "    vy += ay*dt\n",
    "    \n",
    "    if y < 0:\n",
    "        break\n",
    "\n",
    "plt.plot(xp,yp,c='b')"
   ]
  },
  {
   "cell_type": "markdown",
   "id": "565a8282-74af-4ffd-b6cf-0c483cf9588f",
   "metadata": {},
   "source": [
    "&#9989; **Question 5.1 Write code for the above task using functional programming (2 points):** You will need to make 1) a function to update the position at each time step and 2) a function to update velocity. Complete the functions in the code cell below, such that the main code can run."
   ]
  },
  {
   "cell_type": "code",
   "execution_count": null,
   "id": "4c321a9f-e981-4657-ad7a-c83eaa777bdb",
   "metadata": {},
   "outputs": [],
   "source": [
    "### Complete the two functions below such that the main code can run\n",
    "\n",
    "# function\n",
    "def update_velocity(vx,vy,ax,ay,dt):\n",
    "\n",
    "\n",
    "\n",
    "\n",
    "def update_position(x,y,vx,vy,dt):\n",
    "\n",
    "\n",
    "    \n",
    "\n",
    "## =============================== main code\n",
    "    \n",
    "# accelectration\n",
    "ax = 0\n",
    "ay = -9.81\n",
    "\n",
    "\n",
    "# projection angle\n",
    "theta = 80\n",
    "\n",
    "# initial velocity\n",
    "v0 = 1100\n",
    "vx = v0*math.cos(math.radians(theta))\n",
    "vy = v0*math.sin(math.radians(theta))   \n",
    "\n",
    "# position\n",
    "xp = []\n",
    "yp = []\n",
    "\n",
    "# initial position\n",
    "x = 0\n",
    "y = 0\n",
    "\n",
    "xp.append(x)\n",
    "yp.append(y)\n",
    "\n",
    "# time interval\n",
    "dt = 1;\n",
    "\n",
    "for t in range(500):\n",
    "\n",
    "    # update position\n",
    "    x, y = update_position(x,y,vx,vy,dt)\n",
    "\n",
    "    xp.append(x)\n",
    "    yp.append(y)\n",
    "\n",
    "    # update velocity\n",
    "    vx, vy = update_velocity(vx,vy,ax,ay,dt)\n",
    "\n",
    "    \n",
    "    if y < 0:\n",
    "        break\n",
    "\n",
    "plt.plot(xp,yp,c='b')\n"
   ]
  },
  {
   "cell_type": "markdown",
   "id": "0e6d60bd-78fc-4aad-a488-4dbe6cbf762f",
   "metadata": {},
   "source": [
    "&#9989; **Question 5.2 Use your functional programming code to plot four trajectories for $\\theta$ = 80, 60, 45, and 30 degrees on the same plot.(1 point):** You should get a figure similar to \n",
    "\n",
    "<img src=\"https://i.ibb.co/Z1VK7sc0/trajectories.png\" width=400px>"
   ]
  },
  {
   "cell_type": "code",
   "execution_count": null,
   "id": "647cf0e9-9009-4cda-909c-0aa8107dff4e",
   "metadata": {},
   "outputs": [],
   "source": [
    "### Put your code here\n",
    "\n"
   ]
  },
  {
   "cell_type": "markdown",
   "id": "7c98bcff-f743-46c9-937f-e493e92666f5",
   "metadata": {},
   "source": [
    "&#9989; **Question 5.3 Write code for the above task using object-oriented programming (3 points):** In this case, each projectile will be an object, which contains the data (position, velocity, acceleration, inintial velocity, initial angle, and time interval size) and has functions for updating psoition and velocity, and making plot."
   ]
  },
  {
   "cell_type": "code",
   "execution_count": null,
   "id": "06556500-bcd9-4f3e-8b26-92fd4db2b945",
   "metadata": {},
   "outputs": [],
   "source": [
    "### Put your code here\n",
    "\n",
    "class Projectile:\n",
    "\n",
    "\n"
   ]
  },
  {
   "cell_type": "markdown",
   "id": "23fa07a7-a7ae-42bd-8c2b-0378bb299852",
   "metadata": {},
   "source": [
    "&#9989; **Question 5.4 Base on these result, comment on the advantages and disadvantges bwtween linear, functional and OOP programming (1 point):** "
   ]
  },
  {
   "cell_type": "markdown",
   "id": "5e8e38cf-1f3c-4711-b90a-227424e39219",
   "metadata": {},
   "source": [
    "### Put your answer here"
   ]
  },
  {
   "cell_type": "markdown",
   "id": "11b6f8cf-4290-451c-86a1-8cf5856e6c41",
   "metadata": {},
   "source": [
    "&#9989; **Do this**:  **Leave the source of Gen AI here if you used any in Part 5.**"
   ]
  },
  {
   "cell_type": "markdown",
   "id": "14435d84-82d4-4ffc-82b9-3188de6c7103",
   "metadata": {},
   "source": [
    "---\n",
    "### &#128721; STOP (1 point)\n",
    "**Pause to commit your changes to your Git repository!**\n",
    "\n",
    "Take a moment to save your notebook, commit  and push the changes to your Git repository.\n",
    "\n",
    "---"
   ]
  },
  {
   "cell_type": "markdown",
   "id": "868efbc9",
   "metadata": {
    "tags": []
   },
   "source": [
    "## You're done! Congrats on finishing your CMSE 202 Midterm!\n",
    "\n",
    "Make sure all of your changes to your repository are committed and pushed to GitHub. Also upload a copy of this notebook to the <a href=\"https://d2l.msu.edu/\">**dropbox on D2L**</a>  in case something went wrong with your repository or if you couldn't get the repository to work."
   ]
  },
  {
   "cell_type": "code",
   "execution_count": null,
   "id": "179ed9be-e00a-4442-8268-32e4716524ef",
   "metadata": {},
   "outputs": [],
   "source": []
  }
 ],
 "metadata": {
  "kernelspec": {
   "display_name": "Python 3.11 (default)",
   "language": "python",
   "name": "python3"
  },
  "language_info": {
   "codemirror_mode": {
    "name": "ipython",
    "version": 3
   },
   "file_extension": ".py",
   "mimetype": "text/x-python",
   "name": "python",
   "nbconvert_exporter": "python",
   "pygments_lexer": "ipython3",
   "version": "3.11.11"
  }
 },
 "nbformat": 4,
 "nbformat_minor": 5
}
