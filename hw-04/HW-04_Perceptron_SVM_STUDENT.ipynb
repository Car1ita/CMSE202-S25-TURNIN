{
 "cells": [
  {
   "cell_type": "markdown",
   "id": "37abd0c1-f3bc-4c91-80b2-3b14f385ef97",
   "metadata": {},
   "source": [
    "# Homework 4\n",
    "# Perceptron, SVM, and PCA"
   ]
  },
  {
   "cell_type": "markdown",
   "id": "ed41a524-ade8-4277-bffc-7547379f9d22",
   "metadata": {},
   "source": [
    "# <p style=\"text-align: right;\"> &#9989; Carla Carreon-Elisea</p>\n",
    "# <p style=\"text-align: right;\"> &#9989; Car1ita</p>"
   ]
  },
  {
   "cell_type": "markdown",
   "id": "665e13b3-c564-4b25-9e3f-8bef7e3cd6e3",
   "metadata": {},
   "source": [
    "# Goal for this homework assignment\n",
    "We have worked some basics on perceptron, SVM, and PCA in the pre-class and in-class assignments. In this homework assignment, we will:\n",
    "\n",
    "* Continue to use git as the version control tool\n",
    "* Work on unfamiliar data\n",
    "* Use perceptron to classify data \n",
    "* Use SVM to classify data\n",
    "* Use principal component analysis to facilitate classification\n",
    "\n",
    "\n",
    "**This assignment is due by 11:59 pm on Friday, April 25th. Note that ONLY the copy on GITHUB will be graded.**  **There are 60 standard points possible in this assignment including points for Git commits/pushes. The distribution of points can be found in the section headers**."
   ]
  },
  {
   "cell_type": "markdown",
   "id": "199515ba-e709-40e2-a189-5da69a6f1699",
   "metadata": {},
   "source": [
    "---\n",
    "# Part 1: Git repository (6 points)\n",
    "\n",
    "You're going to add this assignment to the `cmse202-s25-turnin` repository you previously created. The history of progress on the assignment will be tracked via git commitments. \n",
    "\n",
    "**&#9989; Do the following**:\n",
    "\n",
    "1. Navigate to your `cmse202-s25-turnin` **local** repository and create a new directory called `hw-04`\n",
    "\n",
    "2. Move this notebook into that **new directory** in your repository. \n",
    "\n",
    "5. Double check to make sure your file is at the correct directory.\n",
    "\n",
    "6. Once you're certain that file and directory are correct, add this notebook to your repository, then make a commit and push it to GitHub. You may need to use `git push origin hw04` to push your file to GitHub.\n",
    "\n",
    "Finally, &#9989; **Do this**: Before you move on, put the command that your instructor should run to clone your repository in the markdown cell below. **Points for this part will be given for correctly setting up branch, etc., above, and for doing git commits/pushes mentioned throughout the assignment.**"
   ]
  },
  {
   "cell_type": "markdown",
   "id": "329e549e-214b-4858-930f-e2b7c9015580",
   "metadata": {},
   "source": [
    "<font size=6 color=\"#009600\">&#9998;</font> curl -O \"https://github.com/Car1ita/CMSE202-S25-TURNIN.git\""
   ]
  },
  {
   "cell_type": "markdown",
   "id": "45e93e6e-2297-490f-b1c8-a87bbd9d4814",
   "metadata": {},
   "source": [
    "**Important**: Double check you've added your Professor and your TA as collaborators to your \"turnin\" repository (you should have done this in the previous homework assignment).\n",
    "\n",
    "**Also important**: Make sure that the version of this notebook that you are working on is the same one that you just added to your repository! If you are working on a different copy of the notebook, **none of your changes will be tracked**!\n",
    "\n",
    "If everything went as intended, the file should now show up on your GitHub account in the \"`cmse202-s25-turnin`\" repository inside the `hw-04` directory that you just created.\n",
    "\n",
    "Periodically, **you'll be asked to commit your changes to the repository and push them to the remote GitHub location**. Of course, you can always commit your changes more often than that, if you wish.  It can be good to get into a habit of committing your changes any time you make a significant modification, or when you stop working on the problems for a bit."
   ]
  },
  {
   "cell_type": "markdown",
   "id": "40b2cd6e-5eac-4817-afad-c1d8ab86214b",
   "metadata": {},
   "source": [
    "---\n",
    "# Part 2: Deal with unfamiliar data (35 points)\n",
    "\n",
    "## Warm up with perceptron for binary classification\n",
    "## 2.1 Load up the dataset\n",
    "\n",
    "This data is obtained from Kaggle/diabetes. It contains multiple measured values and a label for whether the patient is diagnosed as diabetic. \n",
    "\n",
    "* Use commands to dowdload the dataset from `https://raw.githubusercontent.com/huichiayu/cmse202-s25-supllemental_data/refs/heads/main/HW04/diabetes_prediction_dataset.csv`\n",
    "* Use Pandas to load in the data and briefly examine it.\n",
    "* Succeed data load-up gets **2 pt**. "
   ]
  },
  {
   "cell_type": "code",
   "execution_count": 17,
   "id": "c8dde6c3-799e-480b-ac67-a8e0d2716b7a",
   "metadata": {},
   "outputs": [
    {
     "name": "stdout",
     "output_type": "stream",
     "text": [
      "  % Total    % Received % Xferd  Average Speed   Time    Time     Time  Current\n",
      "                                 Dload  Upload   Total   Spent    Left  Speed\n",
      "100 3721k  100 3721k    0     0  4748k      0 --:--:-- --:--:-- --:--:-- 4752k\n"
     ]
    }
   ],
   "source": [
    "# put your code here\n",
    "!curl -O https://raw.githubusercontent.com/huichiayu/cmse202-s25-supllemental_data/refs/heads/main/HW04/diabetes_prediction_dataset.csv"
   ]
  },
  {
   "cell_type": "code",
   "execution_count": 11,
   "id": "6d5c10ea-c48d-455f-bd47-fa0324676839",
   "metadata": {},
   "outputs": [
    {
     "name": "stdout",
     "output_type": "stream",
     "text": [
      "   gender   age  hypertension  heart_disease smoking_history    bmi  \\\n",
      "0  Female  80.0             0              1           never  25.19   \n",
      "1  Female  54.0             0              0         No Info  27.32   \n",
      "2    Male  28.0             0              0           never  27.32   \n",
      "3  Female  36.0             0              0         current  23.45   \n",
      "4    Male  76.0             1              1         current  20.14   \n",
      "\n",
      "   HbA1c_level  blood_glucose_level  diabetes  \n",
      "0          6.6                  140         0  \n",
      "1          6.6                   80         0  \n",
      "2          5.7                  158         0  \n",
      "3          5.0                  155         0  \n",
      "4          4.8                  155         0  \n",
      "0        Female\n",
      "1        Female\n",
      "2          Male\n",
      "3        Female\n",
      "4          Male\n",
      "          ...  \n",
      "99995    Female\n",
      "99996    Female\n",
      "99997      Male\n",
      "99998    Female\n",
      "99999    Female\n",
      "Name: gender, Length: 100000, dtype: object\n"
     ]
    }
   ],
   "source": [
    "import pandas as pd\n",
    "\n",
    "df=pd.read_csv(\"diabetes_prediction_dataset.csv\")\n",
    "\n",
    "print(df.head())\n",
    "print(df.iloc[:, 0]) "
   ]
  },
  {
   "cell_type": "markdown",
   "id": "2ac61eaf-8d5a-4889-8c9a-624aeefc511d",
   "metadata": {},
   "source": [
    "How many patients are in this dataset? What are features of the patients?"
   ]
  },
  {
   "cell_type": "markdown",
   "id": "bc156a61-260e-401d-a92d-d80a0016be0b",
   "metadata": {},
   "source": [
    "<font size=6 color=\"#009600\">&#9998;</font> There are a total 100k patients "
   ]
  },
  {
   "cell_type": "markdown",
   "id": "82b0e656-57ad-4757-b1c5-fa51c9aef9f9",
   "metadata": {},
   "source": [
    "### Use your perceptron class built in Day18 and Day19 assignments to classify whether patients are diabetic.\n",
    "\n",
    "* You should see that there are some features that are non-numerics.\n",
    "* The first one is `gender`. Find the types of classes and convert them to numerics in your dataframe.\n",
    "* The second one is `smoking_history`, convert those string labels to numerics.\n",
    "* Note that since perceptron is a binary classifier, which only determines which side of the dividing line the data points reside, we should also convert the labels to `+1` and `-1`.\n",
    "* Completing data conversion gets **5 pt**."
   ]
  },
  {
   "cell_type": "code",
   "execution_count": 12,
   "id": "4af4a995-58a7-4478-9e3e-b805ab21779f",
   "metadata": {},
   "outputs": [
    {
     "name": "stdout",
     "output_type": "stream",
     "text": [
      "   gender   age  hypertension  heart_disease  smoking_history    bmi  \\\n",
      "0       0  80.0             0              1                0  25.19   \n",
      "1       0  54.0             0              0                1  27.32   \n",
      "2       1  28.0             0              0                0  27.32   \n",
      "3       0  36.0             0              0                2  23.45   \n",
      "4       1  76.0             1              1                2  20.14   \n",
      "\n",
      "   HbA1c_level  blood_glucose_level  diabetes  \n",
      "0          6.6                  140         0  \n",
      "1          6.6                   80         0  \n",
      "2          5.7                  158         0  \n",
      "3          5.0                  155         0  \n",
      "4          4.8                  155         0  \n",
      "gender                   int64\n",
      "age                    float64\n",
      "hypertension             int64\n",
      "heart_disease            int64\n",
      "smoking_history          int64\n",
      "bmi                    float64\n",
      "HbA1c_level            float64\n",
      "blood_glucose_level      int64\n",
      "diabetes                 int64\n",
      "dtype: object\n"
     ]
    },
    {
     "name": "stderr",
     "output_type": "stream",
     "text": [
      "C:\\Users\\Carli\\AppData\\Local\\Temp\\ipykernel_29500\\2075439444.py:3: FutureWarning: Downcasting behavior in `replace` is deprecated and will be removed in a future version. To retain the old behavior, explicitly call `result.infer_objects(copy=False)`. To opt-in to the future behavior, set `pd.set_option('future.no_silent_downcasting', True)`\n",
      "  df['gender']=df['gender'].replace({'Female':0,'Male':1, 'Other':2})\n",
      "C:\\Users\\Carli\\AppData\\Local\\Temp\\ipykernel_29500\\2075439444.py:4: FutureWarning: Downcasting behavior in `replace` is deprecated and will be removed in a future version. To retain the old behavior, explicitly call `result.infer_objects(copy=False)`. To opt-in to the future behavior, set `pd.set_option('future.no_silent_downcasting', True)`\n",
      "  df['smoking_history'] = df['smoking_history'].replace({'never': 0,'No Info':1,'current':2,'former':3,'ever':4,'not current':5})\n"
     ]
    }
   ],
   "source": [
    "# put your code here\n",
    "#print(df.head())\n",
    "df['gender']=df['gender'].replace({'Female':0,'Male':1, 'Other':2})\n",
    "df['smoking_history'] = df['smoking_history'].replace({'never': 0,'No Info':1,'current':2,'former':3,'ever':4,'not current':5})\n",
    "#df['smoking_history'] = df['smoking_history'].fillna(0)\n",
    "\n",
    "print(df.head())\n",
    "print(df.dtypes)\n",
    "  "
   ]
  },
  {
   "cell_type": "markdown",
   "id": "88d2245b-3a9e-4b17-a5e3-b2d8365034db",
   "metadata": {},
   "source": [
    "### Now all feature varilables are numerics.\n",
    "\n",
    "### &#128721; STOP (1 Point)\n",
    "**Pause, save and commit your changes to your Git repository!**\n",
    "\n",
    "Take a moment to save your notebook, commit the changes to your Git repository with a meaningful commit message.\n",
    "\n",
    "\n",
    "\n",
    "---\n",
    "\n",
    "## 2.2 Binary perceptron classifier\n",
    "\n",
    "Copy your perceptron class to the cell below. \n",
    "\n",
    "* DO NOT use the one from statsmodel. We want to test the perceptron you built.\n",
    "* Note that your predict method should output `+1` or `-1` for positive or negative values, respectively.\n",
    "* A functional perceptron classifier gets **4 pt**."
   ]
  },
  {
   "cell_type": "code",
   "execution_count": 13,
   "id": "22f7672c-5fc3-4c4f-8d06-ec88508c81e9",
   "metadata": {},
   "outputs": [
    {
     "name": "stdout",
     "output_type": "stream",
     "text": [
      "(9,)\n",
      "Accuracy:  0.91968\n",
      "Weights:  [-17.1      3.6512  89.9     56.66    -7.24   -17.4256   2.454    1.84  ]\n",
      "Bias weight: -201.32000000002918\n"
     ]
    }
   ],
   "source": [
    "# copy your perceptron class to his cell\n",
    "import numpy as np \n",
    "\n",
    "class MyPerceptron():\n",
    "    def __init__ (self, labeled_data, iters, learning_rate):       \n",
    "        self.data = np.array(labeled_data)\n",
    "        self.weights = np.full((self.data.shape[1]), 1.0) # note that this is just an easy way to get \"number of features + 1\" and set them to 1.0\n",
    "        self.iters = iters\n",
    "        self.l_r = learning_rate\n",
    "        print(self.weights.shape)\n",
    "\n",
    "       \n",
    "    def predict(self, feature_set):\n",
    "        # print(\"Features: \",feature_set, \" weights: \", self.weights[1:])\n",
    "        res = np.dot(feature_set, self.weights[1:])\n",
    "        res += self.weights[0]\n",
    "        return (1 if res > 0 else -1)\n",
    "\n",
    "    def fit(self):\n",
    "        for _ in range(self.iters):\n",
    "            for row in self.data:\n",
    "                update = self.l_r * (row[-1] - self.predict(row[:-1]))\n",
    "                self.weights[1:] += update * row[:-1]\n",
    "                self.weights[0] += update\n",
    " \n",
    "\n",
    "    def errors(self):\n",
    "        error_count = 0\n",
    "        for row in self.data:\n",
    "            # print(\"data: \", row[:-1], \"actual: \", row[-1], \"predict: \", self.predict(row[:-1]), \"weights: \", self.weights)\n",
    "            if (self.predict(row[:-1]) != row[-1]):\n",
    "                error_count += 1\n",
    "        print(\"Accuracy: \", 1.0-(error_count/len(self.data)))\n",
    "        print(\"Weights: \", self.weights[1:])\n",
    "        print(\"Bias weight:\", self.weights[0])\n",
    "        \n",
    "df['diabetes']=df['diabetes'].map({0:-1,1:1})\n",
    "\n",
    "X=df.drop('diabetes',axis=1).values\n",
    "y=df['diabetes'].values\n",
    "data=np.column_stack((X,y))\n",
    "perceptron=MyPerceptron(data,iters=5,learning_rate=0.01)\n",
    "perceptron.fit()\n",
    "perceptron.errors()"
   ]
  },
  {
   "cell_type": "markdown",
   "id": "c38cf279-13af-4402-94c4-2c418d3d97a5",
   "metadata": {},
   "source": [
    "* Split data to 70-30 train-test sets **1 pt**.\n",
    "* Train your perceptron.\n",
    "* Show the accuracy of your pereptron **2 pt**."
   ]
  },
  {
   "cell_type": "code",
   "execution_count": 14,
   "id": "7986537a-e054-4286-91a4-9ba639e3c53d",
   "metadata": {},
   "outputs": [
    {
     "name": "stdout",
     "output_type": "stream",
     "text": [
      "Training features shape: (70000, 8)\n",
      "Training labels shape: (70000,)\n",
      "(9,)\n",
      "Accuracy:  0.91968\n",
      "Weights:  [-17.1      3.6512  89.9     56.66    -7.24   -17.4256   2.454    1.84  ]\n",
      "Bias weight: -201.32000000002918\n"
     ]
    }
   ],
   "source": [
    "# put your code here\n",
    "from sklearn.model_selection import train_test_split\n",
    "\n",
    "X=df.drop('diabetes',axis=1).values\n",
    "y=df['diabetes'].values\n",
    "\n",
    "x_train, x_test, y_train, y_test = train_test_split(X, y, test_size=0.3, random_state=0)\n",
    "print(\"Training features shape:\", x_train.shape)\n",
    "print(\"Training labels shape:\", y_train.shape)\n",
    "\n",
    "#Create to labels can call perceptron\n",
    "train_data =np.column_stack((x_train,y_train))\n",
    "perceptron=MyPerceptron(data,iters=5,learning_rate=0.01)\n",
    "perceptron.fit()\n",
    "perceptron.errors()"
   ]
  },
  {
   "cell_type": "markdown",
   "id": "22521abe-9552-41ec-8512-6995a7245ed7",
   "metadata": {},
   "source": [
    "* Use test set to evaulate the accuracy of your perceptron. What is your accuracy? (**2 pt**)"
   ]
  },
  {
   "cell_type": "code",
   "execution_count": 15,
   "id": "3f6dd4c5-7bc1-4e9b-83e4-0417543b52d3",
   "metadata": {},
   "outputs": [
    {
     "name": "stdout",
     "output_type": "stream",
     "text": [
      "Testing features shape: (30000, 8)\n",
      "Testing labels shape: (30000,)\n",
      "Test set: 0.920367\n"
     ]
    }
   ],
   "source": [
    "# put your code here\n",
    "print(\"Testing features shape:\", x_test.shape)\n",
    "print(\"Testing labels shape:\", y_test.shape)\n",
    "\n",
    "#Helps predict on each test sample\n",
    "pred=np.array([perceptron.predict(i) for i in x_test])\n",
    "\n",
    "test=np.mean(pred == y_test)\n",
    "print(f\"Test set: {test:3f}\")\n",
    "#Testing Perceptron code ChatGPT (OpenAI), April 2025"
   ]
  },
  {
   "cell_type": "markdown",
   "id": "bf59cd13-1358-48ad-a11c-2371277e0b55",
   "metadata": {},
   "source": [
    "* There may be some ways to increase the accruacy, such as increasing the number of train iterations or adjust learning rate. Give a try to train a perceptron you can best get. Record the values of parameters and the optimal accuracy. (**3 pt**)\n"
   ]
  },
  {
   "cell_type": "code",
   "execution_count": 16,
   "id": "3498a824-d111-451e-9119-6f85964bca45",
   "metadata": {},
   "outputs": [
    {
     "name": "stdout",
     "output_type": "stream",
     "text": [
      "(9,)\n",
      "Accuracy:  0.92815\n",
      "Weights:  [-22.54    1.488 136.48   93.32   -5.28  -11.575  18.66    1.86 ]\n",
      "Bias weight: -380.85999999994357\n",
      "Test set: 0.920367\n"
     ]
    }
   ],
   "source": [
    "# put your code here\n",
    "new_test= MyPerceptron(data,iters=70,learning_rate=0.0005)\n",
    "perceptron.fit()\n",
    "perceptron.errors()\n",
    "test=np.mean(pred == y_test)\n",
    "print(f\"Test set: {test:3f}\")"
   ]
  },
  {
   "cell_type": "markdown",
   "id": "41900123-9fa6-4dbb-81de-0b90edc3d9e5",
   "metadata": {},
   "source": [
    "### &#128721; STOP (1 Point)\n",
    "**Pause, save and commit your changes to your Git repository!**\n",
    "\n",
    "Take a moment to save your notebook, commit the changes to your Git repository with a meaningful commit message.\n",
    "\n",
    "---\n",
    "\n",
    "### 2.3 Next we shall test perceptron's capability of multiple-label classification.\n",
    "\n",
    "* Dowdload the dataset from `https://raw.githubusercontent.com/huichiayu/cmse202-s25-supllemental_data/refs/heads/main/HW04/Telecust1.csv`.\n",
    "* This is a customer category dataset (Kraggle/Customer Classification). Each cusmtoer has several feature variables.\n",
    "* There are five categories of customers, which are non-numerics. Thus, let's convert those string labels to numerics.\n",
    "* Successful data load-up gets **2 pt**."
   ]
  },
  {
   "cell_type": "code",
   "execution_count": 46,
   "id": "2f57127a-9d83-4408-a18d-8adfb800eb2f",
   "metadata": {},
   "outputs": [
    {
     "name": "stdout",
     "output_type": "stream",
     "text": [
      "  % Total    % Received % Xferd  Average Speed   Time    Time     Time  Current\n",
      "                                 Dload  Upload   Total   Spent    Left  Speed\n",
      "100 29048  100 29048    0     0   109k      0 --:--:-- --:--:-- --:--:--  109k\n"
     ]
    }
   ],
   "source": [
    "# Download and load the dataset. Convert non-numerical labels to numerics.\n",
    "# put your code here\n",
    "!curl -O https://raw.githubusercontent.com/huichiayu/cmse202-s25-supllemental_data/refs/heads/main/HW04/Telecust1.csv"
   ]
  },
  {
   "cell_type": "markdown",
   "id": "ffcab03b-57fb-4268-81dc-e72281bfceb1",
   "metadata": {},
   "source": [
    "---\n",
    "### 2.4 Multi-label perceptron classification\n",
    "\n",
    "* As we know, perceptron is a binary classifier. For multiple-label classification, we can use One-vs-Rest (OvR) Strategy.\n",
    "* In this case, let's train five individual perceptrons. \n",
    "* For each classifier, it treats the current class as \"positive\" and all others as \"negative.\"\n",
    "* When classifying a new sample, each classifier gives a \"score,\" and the class with the highest score is chosen.\n",
    "\n",
    "Copy your perceptron to the code cell below. We need to add a score method, which outputs dot of weights and features, as opposed to the previous binary predict method. The score method should output a signed floating score value, not `+1` or `-1`. This can be done by removing the binary segmenting, i.e., directly outputing the dot value.\n",
    "\n",
    "* Functioning score() method gets **2 pt**."
   ]
  },
  {
   "cell_type": "code",
   "execution_count": 17,
   "id": "f7996b89-84fb-4272-9c30-c5293a97455b",
   "metadata": {},
   "outputs": [],
   "source": [
    "# put your modified perceptron class here\n",
    "class MyPerceptron():\n",
    "    def __init__ (self, labeled_data, iters, learning_rate):       \n",
    "        self.data = np.array(labeled_data)\n",
    "        self.weights = np.full((self.data.shape[1]), 1.0) # note that this is just an easy way to get \"number of features + 1\" and set them to 1.0\n",
    "        self.iters = iters\n",
    "        self.l_r = learning_rate\n",
    "        print(self.weights.shape)\n",
    "\n",
    "       \n",
    "    def predict(self, feature_set):\n",
    "        # print(\"Features: \",feature_set, \" weights: \", self.weights[1:])\n",
    "        res = np.dot(feature_set, self.weights[1:])\n",
    "        res += self.weights[0]\n",
    "        return (1 if res > 0 else -1)\n",
    "\n",
    "    def score(self,feature_set):\n",
    "        return np.dot(feature_set,self.weights[1:]) + self.weights[0]\n",
    "\n",
    "    def fit(self):\n",
    "        for _ in range(self.iters):\n",
    "            for row in self.data:\n",
    "                update = self.l_r * (row[-1] - self.predict(row[:-1]))\n",
    "                self.weights[1:] += update * row[:-1]\n",
    "                self.weights[0] += update\n",
    " \n",
    "\n",
    "    def errors(self):\n",
    "        error_count = 0\n",
    "        for row in self.data:\n",
    "            # print(\"data: \", row[:-1], \"actual: \", row[-1], \"predict: \", self.predict(row[:-1]), \"weights: \", self.weights)\n",
    "            if (self.predict(row[:-1]) != row[-1]):\n",
    "                error_count += 1\n",
    "        print(\"Accuracy: \", 1.0-(error_count/len(self.data)))\n",
    "        print(\"Weights: \", self.weights[1:])\n",
    "        print(\"Bias weight:\", self.weights[0])"
   ]
  },
  {
   "cell_type": "markdown",
   "id": "395e1e42-e58d-49c5-a7ce-bdbb9f8e3d50",
   "metadata": {},
   "source": [
    "* Now let's do a train-test split of the data with a test_size = 0.3.\n",
    "* Since we are training 5 perceptrons, we should have have 5 class label sets. For instance, in the label set for category A, the label value will be `+1` if it's type A and otherwise `-1`.\n",
    "* Setting label sets gets **4 pt**."
   ]
  },
  {
   "cell_type": "code",
   "execution_count": 18,
   "id": "e59a1422-8984-49b8-889e-e34c6172e8f6",
   "metadata": {},
   "outputs": [],
   "source": [
    "# put your code here\n",
    "train_x, test_x, train_y, test_y = train_test_split(X, y, test_size=0.3, random_state=0)\n",
    "\n",
    "\n",
    "classes = np.unique(train_y)\n",
    "sets = {}\n",
    "for cls in classes:\n",
    "    y_train_c = np.where(train_y == cls, +1, -1)\n",
    "    y_test_c  = np.where(test_y  == cls, +1, -1)\n",
    "    sets[cls] = (y_train_c, y_test_c)"
   ]
  },
  {
   "cell_type": "markdown",
   "id": "5245187a-3ed6-4cc4-a844-7fd0493707c9",
   "metadata": {},
   "source": [
    "* Use training set and the 5 training label sets to train your 5 perceptrons. Report the accuracy of those five training.\n",
    "* Efficiently train the five perceptrons using nest loop gets **5 pt**.\n"
   ]
  },
  {
   "cell_type": "code",
   "execution_count": 19,
   "id": "be107995-7f86-48d8-b24a-d3f3ed8b9e62",
   "metadata": {},
   "outputs": [
    {
     "name": "stdout",
     "output_type": "stream",
     "text": [
      "(9,)\n",
      "Class -1 training accuracy: 0.935\n",
      "(9,)\n",
      "Class 1 training accuracy: 0.924\n"
     ]
    }
   ],
   "source": [
    "# put your code here\n",
    "\n",
    "perceptrons = {}\n",
    "accuracies = {}\n",
    "#ChatGPT was used here\n",
    "for cls in sets:                   \n",
    "    y, _    = sets[cls]          \n",
    "    train_data = np.column_stack((train_x, y))\n",
    "    \n",
    "    p = MyPerceptron(train_data, iters=50, learning_rate=0.01)\n",
    "    p.fit()\n",
    "    perceptrons[cls] = p\n",
    "    \n",
    "    # compute training accuracy with an inner loop over examples\n",
    "    #ChatGPT was used here..\n",
    "    errors = 0\n",
    "    for x_i, true_label in zip(train_x, y):\n",
    "        if p.predict(x_i) != true_label:\n",
    "            errors += 1\n",
    "    acc = 1 - errors/len(y)\n",
    "    accuracies[cls] = acc\n",
    "    \n",
    "    print(f\"Class {cls} training accuracy: {acc:.3f}\")\n",
    "\n",
    "    \n",
    "#Testing/Training Perceptron code for 5 classes ChatGPT (OpenAI), April 2025"
   ]
  },
  {
   "cell_type": "markdown",
   "id": "3e550cc5-fbc2-42a2-8713-881783f2c7f9",
   "metadata": {},
   "source": [
    "* Use the test vector to examine the accuracy.\n",
    "* For each feature set, there should be 5 output scores, each from a perceptron. The predicted label should be the label that corresponds to the highest score.\n",
    "* Report your accuracy. (**3 pt**)"
   ]
  },
  {
   "cell_type": "code",
   "execution_count": 21,
   "id": "1e549131-9459-437b-b627-bc99e0fa93cf",
   "metadata": {},
   "outputs": [
    {
     "name": "stdout",
     "output_type": "stream",
     "text": [
      "Test Accuracy: 0.915\n"
     ]
    }
   ],
   "source": [
    "# put your code here\n",
    "per=[]\n",
    "\n",
    "for i in test_x:\n",
    "    scores ={cls:perceptrons[cls].score(x_i) for cls in perceptrons}\n",
    "    predc=max(scores,key=scores.get)\n",
    "    per.append(predc)\n",
    "\n",
    "per = np.array(per)\n",
    "testa=np.mean(np.array(per) == test_y)\n",
    "print(f\"Test Accuracy: {testa:.3f}\")"
   ]
  },
  {
   "cell_type": "markdown",
   "id": "fd31084b-0308-4fd0-b912-bf42f13ee674",
   "metadata": {},
   "source": [
    "How good is your multiple-label perceptron classification?"
   ]
  },
  {
   "cell_type": "markdown",
   "id": "c598a593-aac1-48b7-b634-f6c046f256f3",
   "metadata": {},
   "source": [
    "<font size=6 color=\"#009600\">&#9998;</font> Based on the training and the testing done you get a accuracy of 0.915 meaning that about 90% of the testing was fairly accurate."
   ]
  },
  {
   "cell_type": "markdown",
   "id": "c08b1bce-e2ce-4bd4-ae8e-9aca6d76a163",
   "metadata": {},
   "source": [
    "\n",
    "### &#128721; STOP (1 Point)\n",
    "**Pause, save and commit your changes to your Git repository!**\n",
    "\n",
    "Take a moment to save your notebook, commit the changes to your Git repository with a meaningful commit message.\n",
    "\n",
    "---\n",
    "## Part 3 SVM classifiers (19 points)\n",
    "\n",
    "### 3.1 SVM \n",
    "\n",
    "Let's re-use the customer category data. There are five caterogies with multiple feature variables.\n",
    "\n",
    "* Use sklearn library to build a SVM classifier. Since we do not know what the best parametes are, perform a GridSearch for best parameters.\n",
    "* NOTE: Because the dataset contains a large number of points, it's expected to have a long computer running time for GridSearch. Thus, let's use only the first 200 data points for GridSearch. You can start the grid search parameter like the image below. However, **NOTE** that if the kernal used cannot find a hyperplane to classify data points, the GridSearch function will stall. You need to manually remove that kernal from the parameter set and re-run GridSearch.\n",
    "  \n",
    "<img src=\"https://i.ibb.co/JWrp6c4q/Grid-Search-Param.png\" width=\"650\">\n",
    "\n",
    "\n",
    "* As in the previous section, make a 70-30 train-test split and train your SVM classifier.\n",
    "* Complete GridSearch to extract best parameters gets **5 pt**."
   ]
  },
  {
   "cell_type": "code",
   "execution_count": 22,
   "id": "59ddfabd-08e6-4af4-b6b6-29b2b217f8f1",
   "metadata": {},
   "outputs": [
    {
     "name": "stdout",
     "output_type": "stream",
     "text": [
      "X.shape: (100000, 8)\n",
      "y.shape: (70000,)\n"
     ]
    }
   ],
   "source": [
    "print(\"X.shape:\", X.shape)\n",
    "print(\"y.shape:\", y.shape)"
   ]
  },
  {
   "cell_type": "code",
   "execution_count": 23,
   "id": "eb83c8b3-cc1b-4fa6-a2f7-f627339586d8",
   "metadata": {},
   "outputs": [
    {
     "name": "stdout",
     "output_type": "stream",
     "text": [
      "Fitting the calssifier\n",
      "Fitting 5 folds for each of 32 candidates, totalling 160 fits\n",
      "→ Best parameters: {'C': 1.0, 'gamma': 0.1, 'kernel': 'rbf'}\n",
      "→ Best CV score:   0.9357142857142857\n"
     ]
    }
   ],
   "source": [
    "# put your code here.\n",
    "from sklearn.svm import SVC\n",
    "from sklearn.model_selection import GridSearchCV\n",
    "\n",
    "X_sub = X[:200]    \n",
    "y_sub = y[:200]    \n",
    "X_train, X_test, y_train, y_test = train_test_split(X_sub, y_sub,test_size=0.3,\n",
    "random_state=42,stratify=y_sub)\n",
    "\n",
    "param_grid= {\"C\" :[1e-2,1e-1,1e0,1e1],\n",
    "             'gamma': [1e-4, 1e-3, 1e-2, 1e-1],\n",
    "             'kernel':  ['linear', 'rbf'] }\n",
    "\n",
    "clf = GridSearchCV(\n",
    "    estimator=SVC(class_weight=\"balanced\"),\n",
    "    param_grid=param_grid,\n",
    "    cv=5,\n",
    "    n_jobs=-1,\n",
    "    verbose=2\n",
    ")\n",
    "                 \n",
    "print(\"Fitting the calssifier\")\n",
    "clf.fit(X_train,y_train)\n",
    "print(\"→ Best parameters:\", clf.best_params_)\n",
    "print(\"→ Best CV score:  \", clf.best_score_)"
   ]
  },
  {
   "cell_type": "markdown",
   "id": "af730354-6eee-40f2-9a19-a20c8be0f3db",
   "metadata": {},
   "source": [
    "* Examine the accuracy of this SVC and report the accuracy. Draw a confusion matrix. **2 pt**"
   ]
  },
  {
   "cell_type": "code",
   "execution_count": 25,
   "id": "527b7f0b-97b1-474f-b0b0-09574d54a6f9",
   "metadata": {},
   "outputs": [
    {
     "name": "stdout",
     "output_type": "stream",
     "text": [
      "Test Accuracy: 0.933333\n",
      "              precision    recall  f1-score   support\n",
      "\n",
      "          -1       0.93      1.00      0.97        56\n",
      "           1       0.00      0.00      0.00         4\n",
      "\n",
      "    accuracy                           0.93        60\n",
      "   macro avg       0.47      0.50      0.48        60\n",
      "weighted avg       0.87      0.93      0.90        60\n",
      "\n"
     ]
    },
    {
     "name": "stderr",
     "output_type": "stream",
     "text": [
      "d:\\Anaconda\\Lib\\site-packages\\sklearn\\metrics\\_classification.py:1509: UndefinedMetricWarning: Precision is ill-defined and being set to 0.0 in labels with no predicted samples. Use `zero_division` parameter to control this behavior.\n",
      "  _warn_prf(average, modifier, f\"{metric.capitalize()} is\", len(result))\n",
      "d:\\Anaconda\\Lib\\site-packages\\sklearn\\metrics\\_classification.py:1509: UndefinedMetricWarning: Precision is ill-defined and being set to 0.0 in labels with no predicted samples. Use `zero_division` parameter to control this behavior.\n",
      "  _warn_prf(average, modifier, f\"{metric.capitalize()} is\", len(result))\n",
      "d:\\Anaconda\\Lib\\site-packages\\sklearn\\metrics\\_classification.py:1509: UndefinedMetricWarning: Precision is ill-defined and being set to 0.0 in labels with no predicted samples. Use `zero_division` parameter to control this behavior.\n",
      "  _warn_prf(average, modifier, f\"{metric.capitalize()} is\", len(result))\n"
     ]
    },
    {
     "data": {
      "image/png": "[encoded data removed]",
      "text/plain": [
       "<Figure size 640x480 with 2 Axes>"
      ]
     },
     "metadata": {},
     "output_type": "display_data"
    }
   ],
   "source": [
    "# put your code here\n",
    "from sklearn.metrics import confusion_matrix,classification_report,ConfusionMatrixDisplay,accuracy_score\n",
    "import matplotlib.pyplot as plt\n",
    "\n",
    "\n",
    "y_pred=clf.predict(X_test)\n",
    "\n",
    "acc=accuracy_score(y_test,y_pred)\n",
    "print(f\"Test Accuracy: {acc:3f}\")\n",
    "print(classification_report(y_test, y_pred))\n",
    "\n",
    "cm=ConfusionMatrixDisplay.from_predictions(y_test, y_pred,display_labels=clf.classes_, cmap=plt.cm.Blues)\n",
    "\n",
    "plt.title(\"Confusion Matrix\")\n",
    "plt.show()\n",
    "\n",
    "#Used to create the examination was running into errorsChatGPT (OpenAI), April 2025"
   ]
  },
  {
   "cell_type": "markdown",
   "id": "baf396ba-1d88-4d14-8771-210dc41fcbcf",
   "metadata": {},
   "source": [
    "Does SVM classifier work much better than your percetron?"
   ]
  },
  {
   "cell_type": "markdown",
   "id": "81488c96-0326-408f-aed9-d956ee068d65",
   "metadata": {},
   "source": [
    "<font size=6 color=\"#009600\">&#9998;</font> Based on the accuracy score from both SVM and the perceptron "
   ]
  },
  {
   "cell_type": "markdown",
   "id": "5cf5af1a-7950-4356-bc42-29c41b31c03d",
   "metadata": {},
   "source": [
    "### &#128721; STOP (1 Point)\n",
    "**Pause, save and commit your changes to your Git repository!**\n",
    "\n",
    "Take a moment to save your notebook, commit the changes to your Git repository with a meaningful commit message.\n",
    "\n",
    "---\n",
    "### 3.2 PCA \n",
    "\n",
    "Although we only have 11 feature variables in the dataset, let's examine how much principal component analysis (PCA) can accelerate the classification. We will increase the PCA components from 1 to 11. For each case, we will perform a GridSearch and use test set to examine the accuracy. \n",
    "\n",
    "* Write a code to loop over n_components = 1 through 11. **4 pt**\n",
    "* Record the accuracy of each case and plot the profile of accuracy versus n_components. In the mean time, record the computer run times and plot the profile of time versus n_components. **2 pt**\n",
    "\n",
    "\n"
   ]
  },
  {
   "cell_type": "code",
   "execution_count": 28,
   "id": "6cb7c31b-cc0f-4ce7-9156-cc1207b26186",
   "metadata": {},
   "outputs": [
    {
     "name": "stdout",
     "output_type": "stream",
     "text": [
      "Fitting 5 folds for each of 32 candidates, totalling 160 fits\n",
      "Test Accuracy: 0.783333\n",
      "Fitting 5 folds for each of 32 candidates, totalling 160 fits\n",
      "Test Accuracy: 0.933333\n",
      "Fitting 5 folds for each of 32 candidates, totalling 160 fits\n",
      "Test Accuracy: 0.933333\n",
      "Fitting 5 folds for each of 32 candidates, totalling 160 fits\n",
      "Test Accuracy: 0.933333\n",
      "Fitting 5 folds for each of 32 candidates, totalling 160 fits\n",
      "Test Accuracy: 0.933333\n",
      "Fitting 5 folds for each of 32 candidates, totalling 160 fits\n",
      "Test Accuracy: 0.933333\n",
      "Fitting 5 folds for each of 32 candidates, totalling 160 fits\n",
      "Test Accuracy: 0.933333\n",
      "Fitting 5 folds for each of 32 candidates, totalling 160 fits\n",
      "Test Accuracy: 0.933333\n"
     ]
    },
    {
     "data": {
      "image/png": "[encoded data removed]",
      "text/plain": [
       "<Figure size 1000x500 with 2 Axes>"
      ]
     },
     "metadata": {},
     "output_type": "display_data"
    }
   ],
   "source": [
    "# put your code here\n",
    "from sklearn.decomposition import PCA\n",
    "from sklearn.pipeline import Pipeline\n",
    "from time import perf_counter\n",
    "\n",
    "param_grid= {\"C\" :[1e-2,1e-1,1e0,1e1],\n",
    "             'gamma': [1e-4, 1e-3, 1e-2, 1e-1],\n",
    "             'kernel':  ['linear', 'rbf'] }\n",
    "\n",
    "X_train, X_test, y_train, y_test = train_test_split(X_sub, y_sub,test_size=0.3,\n",
    "random_state=42,stratify=y_sub)\n",
    "\n",
    "max_components = min(X_train.shape[0], X_train.shape[1])\n",
    "comp = list(range(1, max_components+1))\n",
    "times = []\n",
    "accuracies = []\n",
    "\n",
    "for i in comp:\n",
    "    pipe = Pipeline([\n",
    "        ('pca', PCA(n_components=i)),\n",
    "        ('svc', GridSearchCV(\n",
    "            SVC(class_weight=\"balanced\"), param_grid, cv=5, n_jobs=-1, verbose=2\n",
    "        ))\n",
    "    ])\n",
    "\n",
    "    start=perf_counter()\n",
    "    pipe.fit(X_train, y_train) \n",
    "    end=perf_counter()\n",
    "\n",
    "    times.append(end-start)\n",
    "    y_pred = pipe.predict(X_test)\n",
    "    acc = accuracy_score(y_test, y_pred)\n",
    "    accuracies.append(acc)  \n",
    "\n",
    "    print(f\"Test Accuracy: {acc:3f}\")\n",
    "\n",
    "plt.figure(figsize=(10, 5))\n",
    "plt.subplot(1, 2, 1)\n",
    "plt.plot(comp, times, marker='o')\n",
    "plt.xlabel('Number of Components')\n",
    "plt.ylabel('Time (seconds)')\n",
    "plt.title('Time vs Number of Components')\n",
    "\n",
    "plt.subplot(1, 2, 2)\n",
    "plt.plot(comp, accuracies, marker='o')\n",
    "plt.xlabel('Number of Components')\n",
    "plt.ylabel('Accuracy')\n",
    "plt.title('Accuracy vs Number of Components')\n",
    "\n",
    "plt.tight_layout()\n",
    "plt.show()\n",
    "\n"
   ]
  },
  {
   "cell_type": "markdown",
   "id": "79f02dd4-9ad8-416f-8324-cede07489a0a",
   "metadata": {},
   "source": [
    "Please answer the following questions. \n",
    "* How is the overall accuracy of this SVM classifier?  **1 pt**\n",
    "* If the performance is not good, what do you think the cause is? **2 pt**"
   ]
  },
  {
   "cell_type": "markdown",
   "id": "bcb5f56b-173e-4013-9ccb-cd717aaf2524",
   "metadata": {},
   "source": [
    "<font size=6 color=\"#009600\">&#9998;</font> Based on the information I am seeing from my graphs and the information that has been outputed the accuracy is pretty good with a consistenty of 0.933 repeating over and over again. I think that the data that went through was good and elaborated well on the data that was given."
   ]
  },
  {
   "cell_type": "markdown",
   "id": "c7ccaefe-5020-42f3-8d1b-2359bcdb535d",
   "metadata": {},
   "source": [
    "* Describe the curves of time vs n_components and accuracy vs n_components. **1 pt**\n",
    "* Explain why the curves behave as they are in the figures **2 pt**"
   ]
  },
  {
   "cell_type": "markdown",
   "id": "43066ffe-1bdb-4c50-b4dd-ecec5287fc64",
   "metadata": {},
   "source": [
    "<font size=6 color=\"#009600\">&#9998;</font> Well as mentioned before we know that with accuracy the data stays consistent and does not continue going up or down, just in a straight line. But for time I will take it as the time it takes for each component to load up in every iteration. I believe that we see this pattern appear due to the amount of components there are which are a total of 11 features making this change "
   ]
  },
  {
   "cell_type": "markdown",
   "id": "2c10fcb2-8d8b-4e2f-a9fe-5b998e646114",
   "metadata": {},
   "source": [
    "### &#128721; STOP (1 Point)\n",
    "**Pause, save and commit your FINAL changes to your Git repository!**\n",
    "\n",
    "Take a moment to save your notebook, commit the changes to your Git repository with a meaningful commit message.\n",
    "\n",
    "\n",
    "\n",
    "---\n",
    "## Assignment wrap-up\n",
    "\n",
    "\n",
    "Please fill out the form that appears when you run the code below.  **You must completely fill this out in order to receive credit for the assignment!**\n",
    "\n"
   ]
  },
  {
   "cell_type": "code",
   "execution_count": null,
   "id": "8daa2c83-4226-47d8-ad62-0a15001b3261",
   "metadata": {},
   "outputs": [],
   "source": [
    "from IPython.display import HTML\n",
    "HTML(\n",
    "\"\"\"\n",
    "<iframe \n",
    "\tsrc=\"https://forms.office.com/r/mB0YjLYvAA\" \n",
    "\twidth=\"800px\" \n",
    "\theight=\"600px\" \n",
    "\tframeborder=\"0\" \n",
    "\tmarginheight=\"0\" \n",
    "\tmarginwidth=\"0\">\n",
    "\tLoading...\n",
    "</iframe>\n",
    "\"\"\"\n",
    ")"
   ]
  },
  {
   "cell_type": "markdown",
   "id": "ba1f1ca9-1cce-4437-a38d-163b31945d70",
   "metadata": {},
   "source": [
    "## Congratulations, you're done!\n",
    "\n",
    "&#169; Copyright 2025,  Department of Computational Mathematics, Science and Engineering at Michigan State University"
   ]
  },
  {
   "cell_type": "code",
   "execution_count": null,
   "id": "e08ef267-8dfb-4e1c-86b7-d4c4d42d6bde",
   "metadata": {},
   "outputs": [],
   "source": []
  }
 ],
 "metadata": {
  "kernelspec": {
   "display_name": "base",
   "language": "python",
   "name": "python3"
  },
  "language_info": {
   "codemirror_mode": {
    "name": "ipython",
    "version": 3
   },
   "file_extension": ".py",
   "mimetype": "text/x-python",
   "name": "python",
   "nbconvert_exporter": "python",
   "pygments_lexer": "ipython3",
   "version": "3.12.4"
  }
 },
 "nbformat": 4,
 "nbformat_minor": 5
}
